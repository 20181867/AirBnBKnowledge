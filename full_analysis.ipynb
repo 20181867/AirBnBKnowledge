{
 "cells": [
  {
   "cell_type": "code",
   "execution_count": 1,
   "id": "2ddab07e",
   "metadata": {},
   "outputs": [],
   "source": [
    "!pip install -q geopandas\n",
    "!pip install -q lxml\n",
    "!pip install -q bs4\n",
    "!pip install -q rapidfuzz\n",
    "!pip install -q geopandas matplotlib contextily"
   ]
  },
  {
   "cell_type": "code",
   "execution_count": 2,
   "id": "18baf7fa",
   "metadata": {},
   "outputs": [],
   "source": [
    "import geopandas as gpd\n",
    "from shapely.geometry import Point\n",
    "import pandas as pd\n",
    "import requests\n",
    "from bs4 import BeautifulSoup\n",
    "import re\n",
    "import numpy as np\n",
    "import networkx as nx\n",
    "import contextily as ctx\n",
    "import matplotlib.pyplot as plt\n",
    "import plotly.express as px\n",
    "from rapidfuzz import process"
   ]
  },
  {
   "cell_type": "code",
   "execution_count": 3,
   "id": "2889eae9",
   "metadata": {
    "scrolled": false
   },
   "outputs": [],
   "source": [
    "neighborhoods = gpd.read_file(\"NYCneighbourhoods.geojson\")\n",
    "apartments    = pd.read_csv('listings.csv', low_memory=False)\n",
    "complaints    = pd.read_csv('NYPD_Complaint_Data_Current__Year_To_Date_ (1).csv')\n",
    "population    = pd.read_excel(\"nyc_decennialcensusdata_2010_2020_change-core-geographies.xlsx\", \n",
    "                              sheet_name=\"2010, 2020, and Change\", \n",
    "                              skiprows= [0,1,2])\n",
    "\n",
    "housing_prices_bronx         = pd.read_excel(\"rollingsales_bronx.xlsx\",        skiprows= [0,1,2,3])\n",
    "housing_prices_brooklyn      = pd.read_excel(\"rollingsales_brooklyn.xlsx\",     skiprows= [0,1,2,3])\n",
    "housing_prices_manhattan     = pd.read_excel(\"rollingsales_manhattan.xlsx\",    skiprows= [0,1,2,3])\n",
    "housing_prices_queens        = pd.read_excel(\"rollingsales_queens.xlsx\",       skiprows= [0,1,2,3])\n",
    "housing_prices_staten_island = pd.read_excel(\"rollingsales_statenisland.xlsx\", skiprows= [0,1,2,3])\n",
    "\n",
    "housing_prices = pd.concat([housing_prices_bronx,\n",
    "                            housing_prices_brooklyn, \n",
    "                            housing_prices_manhattan, \n",
    "                            housing_prices_queens, \n",
    "                            housing_prices_staten_island])"
   ]
  },
  {
   "cell_type": "markdown",
   "id": "aa8abc7e",
   "metadata": {},
   "source": [
    "## Preprocessing\n"
   ]
  },
  {
   "cell_type": "markdown",
   "id": "70252713",
   "metadata": {},
   "source": [
    "#### Population\n",
    "The dataset contains information on many different ways to divide NYC into neighborhoods. For this analysis we are only interested in the NTA2020 neighborhoods, and only the population data in 2020 (not 2010)\n",
    "\n",
    "It also contains a lot of information about the population like race and age. These are irrelevant to our analysis, and only the two columns that are relevant are kept."
   ]
  },
  {
   "cell_type": "code",
   "execution_count": 4,
   "id": "1b624d3b",
   "metadata": {},
   "outputs": [],
   "source": [
    "population = population[population[\"GeoType\"] == \"NTA2020\"][[\"Name\", \"Pop_20\"]]"
   ]
  },
  {
   "cell_type": "markdown",
   "id": "68a80f31",
   "metadata": {},
   "source": [
    "#### Housing Prices\n",
    "- There are a number of outliers in the housing_prices, where they were sold for 0, 1 or just a very small amount. These are dropped from the further analysis, because we assume there is more at play in those cases.\n",
    "- Some of the housing sales contain multiple residential units, which could all bo rented as Airbnb's. Therefore the sale price is divided by the number of total units. Houses with no units are also dropped, seeing that it must have at least 1 to be inhabitable.\n",
    "\n",
    "Aside from this, only the columns relevant for the analysis are kept."
   ]
  },
  {
   "cell_type": "code",
   "execution_count": 5,
   "id": "31f320ae",
   "metadata": {},
   "outputs": [],
   "source": [
    "housing_prices = housing_prices[housing_prices['SALE PRICE'] >= 100000]\n",
    "housing_prices = housing_prices[housing_prices['TOTAL UNITS'] != 0]\n",
    "housing_prices['AVERAGE PRICE'] = housing_prices['SALE PRICE'] / housing_prices['TOTAL UNITS']\n",
    "\n",
    "housing_prices= housing_prices[['AVERAGE PRICE', 'NEIGHBORHOOD']]\n"
   ]
  },
  {
   "cell_type": "markdown",
   "id": "db0134e7",
   "metadata": {},
   "source": [
    "#### Apartments\n",
    "This dataset took the most time to preprocess. The full process is described in the other notebook. Here we only included the parts where data was actually changed, as to not clutter the notebook."
   ]
  },
  {
   "cell_type": "code",
   "execution_count": 6,
   "id": "e5ac675b",
   "metadata": {},
   "outputs": [
    {
     "name": "stderr",
     "output_type": "stream",
     "text": [
      "C:\\Users\\20183061\\AppData\\Local\\Temp\\ipykernel_21648\\669029156.py:12: SettingWithCopyWarning: \n",
      "A value is trying to be set on a copy of a slice from a DataFrame.\n",
      "Try using .loc[row_indexer,col_indexer] = value instead\n",
      "\n",
      "See the caveats in the documentation: https://pandas.pydata.org/pandas-docs/stable/user_guide/indexing.html#returning-a-view-versus-a-copy\n",
      "  apartments[apartments['minimum_nights'] < 3]['days_booked_per_month'] = apartments['number_of_reviews_ltm'] / 12.0 * 3\n"
     ]
    }
   ],
   "source": [
    "apartments['price'] = apartments['price'].replace({'\\$':'', ',':''}, regex = True).astype(float)\n",
    "apartments.dropna(subset=['reviews_per_month'], inplace=True)\n",
    "apartments = apartments[apartments['reviews_per_month'] <= 31]\n",
    "apartments = apartments[apartments['price'] <= 20000]\n",
    "apartments = apartments[apartments['room_type']=='Entire home/apt']\n",
    "\n",
    "guest_review_rate = 0.5\n",
    "occupancy_rate_cap = 0.7\n",
    "min_stay_duration = 3\n",
    "\n",
    "apartments['days_booked_per_month'] = apartments['number_of_reviews_ltm'] / 12.0 * apartments['minimum_nights']\n",
    "apartments[apartments['minimum_nights'] < 3]['days_booked_per_month'] = apartments['number_of_reviews_ltm'] / 12.0 * 3\n",
    "\n",
    "apartments[apartments['days_booked_per_month'] > occupancy_rate_cap*30] = occupancy_rate_cap*30\n",
    "\n",
    "apartments['avg_monthly_revenue'] = (apartments['days_booked_per_month'] * apartments['price']) / guest_review_rate\n",
    "\n",
    "apartments = apartments[['id', 'latitude', 'longitude', 'avg_monthly_revenue']]"
   ]
  },
  {
   "cell_type": "markdown",
   "id": "d0f182b5",
   "metadata": {},
   "source": [
    "# Merging the data\n",
    "The data from the apartments and the complaints are matched using their longitude and latitude information. This is connected using the GeoJSON, specificying the borders of each neighborhood. The apartments dataset also contains information about the neighborhoods, but because there are many ways of splitting New York into neighborhoods we decided to use latitude and longitude, so they all use the same definition."
   ]
  },
  {
   "cell_type": "code",
   "execution_count": 7,
   "id": "4a8ca187",
   "metadata": {},
   "outputs": [],
   "source": [
    "geometry_ap = [Point(xy) for xy in zip(apartments['longitude'], apartments['latitude'])]\n",
    "geometry_co = [Point(xy) for xy in zip(complaints['Longitude'], complaints['Latitude'])]\n",
    "\n",
    "# Create a GeoDataFrame from the apartments DataFrame\n",
    "apartments_gdf = gpd.GeoDataFrame(apartments, geometry=geometry_ap)\n",
    "complaints_gdf = gpd.GeoDataFrame(complaints, geometry=geometry_co)\n",
    "\n",
    "apartments_gdf.crs = \"EPSG:4326\"\n",
    "complaints_gdf.crs = \"EPSG:4326\"\n",
    "\n",
    "joined_ap = gpd.sjoin(apartments_gdf, neighborhoods, how=\"left\", predicate=\"within\")\n",
    "joined_co = gpd.sjoin(complaints_gdf, neighborhoods, how=\"left\", predicate=\"within\")\n",
    "\n",
    "ap_neighborhood_names = joined_ap[\"NTAName\"]\n",
    "co_neighborhood_names = joined_co[\"NTAName\"]\n",
    "\n",
    "apartments_with_neighborhoods = pd.concat([apartments, ap_neighborhood_names], axis=1)\n",
    "complaints_with_neighborhoods = pd.concat([complaints, co_neighborhood_names], axis=1)"
   ]
  },
  {
   "cell_type": "markdown",
   "id": "25cc18ac",
   "metadata": {},
   "source": [
    "#### Preprocessing Complaints\n",
    "- Complaints is preprocessed by checking the null values, checking what the types of offenses are, and dropping the types of complaints that are irrelevant for the safety in an Airbnb.\n",
    "- Next the complaints which have a latitude and longitude that cannot be matched with a neighborhood are dropped because they cannot be used in the ret of the analysis. \n",
    "- Finally all columns that are not interesting are dropped."
   ]
  },
  {
   "cell_type": "code",
   "execution_count": 8,
   "id": "bd9cf672",
   "metadata": {},
   "outputs": [
    {
     "data": {
      "image/png": "[encoded data removed]",
      "text/plain": [
       "<Figure size 640x480 with 1 Axes>"
      ]
     },
     "metadata": {},
     "output_type": "display_data"
    },
    {
     "data": {
      "image/png": "[encoded data removed]",
      "text/plain": [
       "<Figure size 640x480 with 1 Axes>"
      ]
     },
     "metadata": {},
     "output_type": "display_data"
    }
   ],
   "source": [
    "#Check NAN values\n",
    "complaints_with_neighborhoods.isnull().sum()\n",
    "\n",
    "complaints_with_neighborhoods[\"OFNS_DESC\"].unique()\n",
    "df_comp = complaints_with_neighborhoods[complaints_with_neighborhoods[\"OFNS_DESC\"]!=\"OFFENSES INVOLVING FRAUD\"]\n",
    "\n",
    "# The points which have not  been assigned a neighborhood are dropped from the analysis. Inspecting these points shows that some of the are at 0,0 which is probably just a missing value, and others fall just outside of NYC borders.\n",
    "df_no_NTA = df_comp[df_comp['NTAName'].isna()]\n",
    "df_no_NTA = df_no_NTA[df_no_NTA['Latitude']>20]\n",
    "df_no_NTA.plot.scatter(y=\"Latitude\", x=\"Longitude\")\n",
    "\n",
    "df_comp = df_comp[df_comp['NTAName'].notna()]\n",
    "df_comp.plot.scatter(y=\"Latitude\", x=\"Longitude\")\n",
    "\n",
    "interesting_columns = [\"CMPLNT_NUM\", \"OFNS_DESC\", \"NTAName\", \"Latitude\", \"Longitude\"]\n",
    "df_comp = df_comp[interesting_columns]"
   ]
  },
  {
   "cell_type": "code",
   "execution_count": 9,
   "id": "b0f47dec",
   "metadata": {},
   "outputs": [],
   "source": [
    "# The dataframes are renamed to match the rest of the analysis\n",
    "complaints_clean = df_comp\n",
    "airbnb_clean = apartments_with_neighborhoods\n",
    "population = population.rename(columns = {\"Name\": \"NTA Name\", \"Pop_20\": \"Population\"})\n"
   ]
  },
  {
   "cell_type": "markdown",
   "id": "050f0c57",
   "metadata": {},
   "source": [
    "# Neighborhood name Merging\n",
    "When we compare the names from the AirBnB to the population, we see they actually match. \n",
    "There are only some more NTA's included in the population dataset. These are not of interest, because there are no airbnbs in there.\n",
    "Therefore we drop those rows.\n",
    "\n",
    "Further inspection reveals that the rows that are dropped are all parks, islands and fields. It makes sense that these have no AirBnB's."
   ]
  },
  {
   "cell_type": "code",
   "execution_count": 10,
   "id": "144df70d",
   "metadata": {},
   "outputs": [],
   "source": [
    "correct_names = airbnb_clean[\"NTAName\"].unique()\n",
    "other_names = population[\"NTA Name\"].unique()\n",
    "\n",
    "population = population[population['NTA Name'].isin(correct_names)]\n",
    "\n",
    "# print(len(set(correct_names)))\n",
    "# print(len(set(other_names)))\n",
    "# print(len(set(correct_names).intersection(set(other_names))))\n",
    "# print(set(correct_names)-set(other_names))"
   ]
  },
  {
   "cell_type": "markdown",
   "id": "fb912af3",
   "metadata": {},
   "source": [
    "Inspection of the lists of names reveals that many of them match a bit, but not perfectly. Therefore we employ guzzy string matching to find the best combinations."
   ]
  },
  {
   "cell_type": "code",
   "execution_count": 11,
   "id": "a3f92211",
   "metadata": {},
   "outputs": [],
   "source": [
    "# Create a function to find the best match for a neighborhood name\n",
    "def find_best_match(name, choices):\n",
    "    best_match = process.extractOne(name, choices)\n",
    "    if best_match is None:\n",
    "        return None\n",
    "    return best_match[0] if best_match[1] >= 65 else None\n"
   ]
  },
  {
   "cell_type": "code",
   "execution_count": 12,
   "id": "60aba3f2",
   "metadata": {
    "scrolled": false
   },
   "outputs": [
    {
     "name": "stdout",
     "output_type": "stream",
     "text": [
      "251\n"
     ]
    }
   ],
   "source": [
    "'''\n",
    "To match the housing prices the strings don't fully line up. \n",
    "Therefore we use fuzzy string comparisons to see which ones are most alike.\n",
    "These are put into a dictionary where we check if the matches have been done right.\n",
    "We already see that there are 251 Neighborhood names, which suggest that we should have 32 non-matches\n",
    "\n",
    "There are only 96 matches at first, with the threshold at 65. I will lower the match to 70, this gives us 189.\n",
    "\n",
    "'''\n",
    "housing_price_names = housing_prices[\"NEIGHBORHOOD\"].unique()\n",
    "print(len(housing_price_names))\n",
    "transformed_housing_names = {name: find_best_match(name.lower(), correct_names) for name in housing_price_names}"
   ]
  },
  {
   "cell_type": "code",
   "execution_count": 13,
   "id": "48f46b55",
   "metadata": {
    "scrolled": false
   },
   "outputs": [],
   "source": [
    "'''\n",
    "Further inspection revealed a lot of the matches were not correct. These have all been corrected below.\n",
    "This was done by looking at all of the matches, and seeing whether they made sense.\n",
    "If a good alternative was available in the correct-names list it was used, otherwise it was set to none.\n",
    "'''\n",
    "#transformed_housing_names\n",
    "\n",
    "transformed_housing_names['CITY ISLAND-PELHAM STRIP'] = 'Pelham Bay-Country Club-City Island'\n",
    "transformed_housing_names['BRONXDALE'] = None\n",
    "transformed_housing_names['KINGSBRIDGE HTS/UNIV HTS'] = 'Kingsbridge Heights-Van Cortlandt Village'\n",
    "transformed_housing_names['KINGSBRIDGE/JEROME PARK'] = 'Kingsbridge-Marble Hill'\n",
    "transformed_housing_names['COBBLE HILL-WEST'] = 'Carroll Gardens-Cobble Hill-Gowanus-Red Hook'\n",
    "transformed_housing_names['DOWNTOWN-FULTON FERRY'] ='Downtown Brooklyn-DUMBO-Boerum Hill'\n",
    "transformed_housing_names['DOWNTOWN-FULTON MALL'] = 'Downtown Brooklyn-DUMBO-Boerum Hill'\n",
    "transformed_housing_names['DOWNTOWN-METROTECH'] = 'Downtown Brooklyn-DUMBO-Boerum Hill'\n",
    "transformed_housing_names['OLD MILL BASIN'] = 'Marine Park-Mill Basin-Bergen Beach'\n",
    "transformed_housing_names['SEAGATE'] = 'Coney Island-Sea Gate'\n",
    "transformed_housing_names['WYCKOFF HEIGHTS'] = None\n",
    "transformed_housing_names['FASHION'] = None\n",
    "transformed_housing_names['HARLEM-WEST'] = 'Manhattanville-West Harlem'\n",
    "transformed_housing_names['HARLEM-CENTRAL'] = 'Harlem (South)'\n",
    "transformed_housing_names['HARLEM-UPPER'] = 'Harlem (North)'\n",
    "transformed_housing_names['HARLEM-EAST'] = 'East Harlem (North)'\n",
    "transformed_housing_names['MIDTOWN CBD'] = 'Midtown-Times Square'\n",
    "transformed_housing_names['MIDTOWN WEST'] = 'Midtown-Times Square'\n",
    "transformed_housing_names['SOHO'] = 'SoHo-Little Italy-Hudson Square'\n",
    "transformed_housing_names['SOUTHBRIDGE'] = None\n",
    "transformed_housing_names['UPPER EAST SIDE (59-79)'] ='Upper East Side-Lenox Hill-Roosevelt Island'\n",
    "transformed_housing_names['UPPER EAST SIDE (79-96)'] ='Upper East Side-Lenox Hill-Roosevelt Island'\n",
    "transformed_housing_names['UPPER EAST SIDE (96-110)'] ='Upper East Side-Lenox Hill-Roosevelt Island'\n",
    "transformed_housing_names['UPPER WEST SIDE (59-79)'] ='Upper West Side-Manhattan Valley'\n",
    "transformed_housing_names['UPPER WEST SIDE (79-96)'] ='Upper West Side-Manhattan Valley'\n",
    "transformed_housing_names['UPPER WEST SIDE (96-116)'] ='Upper West Side-Manhattan Valley'\n",
    "transformed_housing_names['DONGAN HILLS-COLONY'] = 'Grasmere-Arrochar-South Beach-Dongan Hills'\n",
    "transformed_housing_names['DONGAN HILLS-OLD TOWN'] = 'Grasmere-Arrochar-South Beach-Dongan Hills'\n",
    "transformed_housing_names['GREAT KILLS-BAY TERRACE'] = 'Great Kills-Eltingville'\n",
    "transformed_housing_names['NEW BRIGHTON-ST. GEORGE'] = 'St. George-New Brighton'\n",
    "transformed_housing_names['NEW DORP-BEACH']= 'New Dorp-Midland Beach'\n",
    "transformed_housing_names['New Dorp-Midland Beach'] = 'New Dorp-Midland Beach'\n",
    "transformed_housing_names['OAKWOOD-BEACH'] = 'Oakwood-Richmondtown'\n",
    "transformed_housing_names['ROSSVILLE-PORT MOBIL'] ='Arden Heights-Rossville'\n",
    "transformed_housing_names['ROSSVILLE-RICHMOND VALLEY'] ='Arden Heights-Rossville'\n",
    "transformed_housing_names['WASHINGTON HEIGHTS LOWER'] ='Washington Heights (South)'\n",
    "transformed_housing_names['WASHINGTON HEIGHTS UPPER'] ='Washington Heights (North)'"
   ]
  },
  {
   "cell_type": "code",
   "execution_count": 14,
   "id": "d1f8e8c8",
   "metadata": {},
   "outputs": [
    {
     "name": "stdout",
     "output_type": "stream",
     "text": [
      "222\n"
     ]
    }
   ],
   "source": [
    "housing_prices[\"NTA Name\"] = housing_prices[\"NEIGHBORHOOD\"].map(transformed_housing_names)\n",
    "\n",
    "# Now 222 of the NTA Names are matched. The rest had no match.\n",
    "count = sum(value is not None for value in transformed_housing_names.values())\n",
    "print(count)"
   ]
  },
  {
   "cell_type": "code",
   "execution_count": 15,
   "id": "8874178f",
   "metadata": {
    "scrolled": true
   },
   "outputs": [],
   "source": [
    "'''\n",
    "Here is is checked which of the files is the bottleneck in the amount of Neighborhoods taken into account.\n",
    "It turns out this is the housing_prices dataset.\n",
    "'''\n",
    "\n",
    "airbnb_clean[\"NTAName\"].unique()\n",
    "complaints_clean[\"NTAName\"].unique()\n",
    "\n",
    "set1 = set(airbnb_clean[\"NTAName\"].unique())\n",
    "set2 = set(complaints_clean[\"NTAName\"].unique())\n",
    "set3 = set(population[\"NTA Name\"].unique())\n",
    "set4 = set(housing_prices[\"NTA Name\"].unique())\n",
    "\n",
    "all_NTA = set1.intersection(set2, set3, set4)\n",
    "\n",
    "# print(len(set1))\n",
    "# print(len(set2))\n",
    "# print(len(set3))\n",
    "# print(len(set4))\n",
    "# print(len(all_NTA))\n",
    "\n",
    "# print(len(set1.intersection(set4)))\n",
    "\n",
    "\n",
    "housing_prices = housing_prices.dropna()"
   ]
  },
  {
   "cell_type": "markdown",
   "id": "654d1c5f",
   "metadata": {},
   "source": [
    "Here the graph is created. The nodes are added, with their connections. The attributes of interest are added to the nodes."
   ]
  },
  {
   "cell_type": "code",
   "execution_count": 16,
   "id": "6466b2bb",
   "metadata": {},
   "outputs": [],
   "source": [
    "graph = nx.Graph()\n",
    "\n",
    "for neighborhood in all_NTA:\n",
    "    graph.add_node(neighborhood)\n",
    "    graph.nodes[neighborhood][\"population\"] = population.loc[population['NTA Name'] == neighborhood, 'Population'].values[0]\n",
    "\n",
    "for index, complaint_row in complaints_clean.iterrows():\n",
    "    indexing = \"complaint\"+str(index)\n",
    "    graph.add_node(indexing)\n",
    "    graph.nodes[indexing][\"complaint_type\"] = complaint_row[\"OFNS_DESC\"]\n",
    "    graph.add_edge(indexing, complaint_row[\"NTAName\"], label=\"complaint_is_in\")\n",
    "    \n",
    "for index, airbnb_listing in airbnb_clean.iterrows():\n",
    "    indexing = \"listing\"+str(index)\n",
    "    graph.add_node(indexing)\n",
    "    graph.add_edge(indexing, airbnb_listing[\"NTAName\"], label=\"airbnb_is_in\")\n",
    "    \n",
    "    graph.nodes[indexing][\"avg_monthly_revenue\"] = airbnb_listing[\"avg_monthly_revenue\"]\n",
    "\n",
    "    \n",
    "for index, sale in housing_prices.iterrows():\n",
    "    indexing = \"sale\"+str(index)\n",
    "    graph.add_node(indexing)\n",
    "    graph.add_edge(indexing, sale[\"NTA Name\"], label=\"sale_is_in\")\n",
    "    \n",
    "    graph.nodes[indexing][\"price\"] = sale[\"AVERAGE PRICE\"]\n",
    "\n",
    "    "
   ]
  },
  {
   "cell_type": "markdown",
   "id": "8597f6dd",
   "metadata": {},
   "source": [
    "For every neighborhood node their neighbors are analyzed. \n",
    "- For the sale prices the average sale_price is calculated. This is then multiplied by the cost_factor of a mortgage, and divided by 12 to get the monthly costs. If there are too little sales in the neighborhood to base the prediction on it is not taken into account\n",
    "- For the crimes the amount of crimes is divided by the population of the nieghborhood to get the crime rate per capita. This is then scaled using the mean and standard deviation of crime rates\n",
    "- For the airbnbs, the average monthly revenue is taken into account. If there are too little airbnbs to base this estimation on, we do not take the neighborhood as an option.\n",
    "- Then the ROI is calculated by taking the revenue - profit and dividing it by the total costs.\n",
    "- The scaling factor is calculated by multiplying the crime_weighting with the scaled crime. \n",
    "- Multiplying these gives us the final score, from which the maximum 5 are returned."
   ]
  },
  {
   "cell_type": "code",
   "execution_count": 22,
   "id": "daf59ee7",
   "metadata": {},
   "outputs": [],
   "source": [
    "crime_weighting = 0.1\n",
    "cost_factor = 0.03\n",
    "\n",
    "dropped_nb =0\n",
    "\n",
    "def get_crime_rates(node):\n",
    "    neighbors_crimes = [neighbor for neighbor in graph.neighbors(node) if graph.edges[node, neighbor][\"label\"] == \"complaint_is_in\"]\n",
    "    \n",
    "    crime_rate = len(neighbors_crimes) / graph.nodes[node][\"population\"]\n",
    "    crime_track.append(crime_rate)\n",
    "    return crime_rate\n",
    "\n",
    "crime_rate_list = [get_crime_rates(n) for n in all_NTA]\n"
   ]
  },
  {
   "cell_type": "code",
   "execution_count": 23,
   "id": "44ee9427",
   "metadata": {},
   "outputs": [],
   "source": [
    "#With these two statistics we can normalize the crime rates.\n",
    "mean_crime_track = np.mean(crime_rate_list)\n",
    "std_crime_track  = np.std(crime_rate_list)"
   ]
  },
  {
   "cell_type": "code",
   "execution_count": 24,
   "id": "0e6932f7",
   "metadata": {
    "scrolled": true
   },
   "outputs": [
    {
     "name": "stdout",
     "output_type": "stream",
     "text": [
      "['St. George-New Brighton', 'West New Brighton-Silver Lake-Grymes Hill', 'East Elmhurst', 'New Dorp-Midland Beach', 'Chinatown-Two Bridges']\n"
     ]
    }
   ],
   "source": [
    "crime_weighting = 0.1\n",
    "cost_factor = 0.03\n",
    "\n",
    "dropped_nb =0\n",
    "\n",
    "def investment_rating(node):\n",
    "    neighbors_sale_prices = [graph.nodes[neighbor][\"price\"] for neighbor in graph.neighbors(node) if graph.edges[node, neighbor][\"label\"] == \"sale_is_in\"]\n",
    "    \n",
    "    if len(neighbors_sale_prices) < 20:\n",
    "        #print(f\"{node} returned due to too little housing sales\")\n",
    "        return -10000\n",
    "    \n",
    "    average_sale_price = np.mean(neighbors_sale_prices)\n",
    "    costs = average_sale_price * cost_factor /12\n",
    "    \n",
    "    neighbors_crimes = [neighbor for neighbor in graph.neighbors(node) if graph.edges[node, neighbor][\"label\"] == \"complaint_is_in\"]\n",
    "    \n",
    "    crime_rate = len(neighbors_crimes) / graph.nodes[node][\"population\"]\n",
    "    scaled_crime_rate = (crime_rate - mean_crime_track) / std_crime_track\n",
    "\n",
    "\n",
    "    neighbors_airbnb = [graph.nodes[neighbor][\"avg_monthly_revenue\"] for neighbor in graph.neighbors(node) if graph.edges[node, neighbor][\"label\"] == \"airbnb_is_in\"]\n",
    "    \n",
    "    if len(neighbors_airbnb) <20:\n",
    "        #print(f\"{node} returned due to too little AirBnBs\")\n",
    "        return -10000\n",
    "    \n",
    "    #Revenue is calculated as the mean revenue of all Airbnbs in a neighborhood\n",
    "    revenue = np.mean(neighbors_airbnb)\n",
    "    roi            = 12*(revenue - costs)/average_sale_price\n",
    "    scaling_factor = (1 - crime_weighting * scaled_crime_rate)\n",
    "    \n",
    "    #print(f\"NB {node} pop {graph.nodes[node]['population']} rev {revenue} costs {costs} ROI {roi} sc_cr_rt {scaled_crime_rate} sc_fc {scaling_factor} score{roi * scaling_factor}\")\n",
    "    # If the ROI is positive, you want it to go up with a high scaling factor, If it is negative you also want it to go up, so you have to make a case distinction\n",
    "    if roi>0:\n",
    "        return roi * scaling_factor\n",
    "    if roi<0:\n",
    "        return roi / scaling_factor\n",
    "\n",
    "\n",
    "nb_nodes = [n for n in all_NTA]\n",
    "nodes_with_max_combination = max(nb_nodes, key=investment_rating)\n",
    "\n",
    "\n",
    "top_nodes = sorted(nb_nodes, key=investment_rating, reverse=True)[:5]\n",
    "\n",
    "print(top_nodes)\n"
   ]
  },
  {
   "cell_type": "markdown",
   "id": "435a756f",
   "metadata": {},
   "source": [
    "Finally we visualize the best neighborhoods to get a sense of where they are"
   ]
  },
  {
   "cell_type": "code",
   "execution_count": 25,
   "id": "9ce2a109",
   "metadata": {},
   "outputs": [
    {
     "data": {
      "application/vnd.plotly.v1+json": {
       "config": {
        "plotlyServerURL": "https://plot.ly"
       },
       "data": [
        {
         "colorscale": [
          [
           0,
           "#636efa"
          ],
          [
           1,
           "#636efa"
          ]
         ],
         "geojson": {
          "bbox": [
           -74.124900521376,
           40.5589616685021,
           -73.8546413604111,
           40.7718791822139
          ],
          "features": [
           {
            "bbox": [
             -74.0015678032769,
             40.7079906526438,
             -73.9844979121924,
             40.7184656847553
            ],
            "geometry": {
             "coordinates": [
              [
               [
                -73.9844979121924,
                40.7095179204499
               ],
               [
                -73.9865517954703,
                40.7093202005391
               ],
               [
                -73.9881663598449,
                40.7091650378192
               ],
               [
                -73.988174852259,
                40.7091557746118
               ],
               [
                -73.9883920828812,
                40.7091352054616
               ],
               [
                -73.9884479770407,
                40.7091420768453
               ],
               [
                -73.9884811153665,
                40.7091641031074
               ],
               [
                -73.9884987144244,
                40.7091845615981
               ],
               [
                -73.9886380234933,
                40.7099203179605
               ],
               [
                -73.9886467777147,
                40.7099251903434
               ],
               [
                -73.9886689485946,
                40.7099282912754
               ],
               [
                -73.9886975455081,
                40.7099367062899
               ],
               [
                -73.9887191539153,
                40.7099553464645
               ],
               [
                -73.9887382598857,
                40.7099789982973
               ],
               [
                -73.9887986206875,
                40.7099748639215
               ],
               [
                -73.98889990267,
                40.7099629922084
               ],
               [
                -73.9893590999718,
                40.7099092431246
               ],
               [
                -73.9894621132315,
                40.7098975434621
               ],
               [
                -73.98957593916,
                40.7098823380104
               ],
               [
                -73.9897465946833,
                40.7098570180486
               ],
               [
                -73.9901596969885,
                40.7097986290307
               ],
               [
                -73.9905156471322,
                40.7097421404622
               ],
               [
                -73.9907905736361,
                40.7096977629138
               ],
               [
                -73.9910692781679,
                40.7096654861516
               ],
               [
                -73.9913525359969,
                40.7096285889952
               ],
               [
                -73.9917040466607,
                40.7095735187222
               ],
               [
                -73.9917692395571,
                40.7095633117881
               ],
               [
                -73.9919068874625,
                40.7095336528361
               ],
               [
                -73.9920407135238,
                40.7095251759128
               ],
               [
                -73.9920927602162,
                40.7095164791477
               ],
               [
                -73.9921501335758,
                40.7095068653441
               ],
               [
                -73.9923626053393,
                40.7094726250373
               ],
               [
                -73.9928499115777,
                40.7093901338313
               ],
               [
                -73.9937415729908,
                40.7092543765701
               ],
               [
                -73.9940096460943,
                40.7092457360427
               ],
               [
                -73.9941420764995,
                40.7092415235181
               ],
               [
                -73.994379680009,
                40.7092008953008
               ],
               [
                -73.9945804442674,
                40.7091392289928
               ],
               [
                -73.9951772185138,
                40.7090425493506
               ],
               [
                -73.9958053015468,
                40.708954269911
               ],
               [
                -73.9960204290358,
                40.7089244798376
               ],
               [
                -73.9966654552452,
                40.7088351604677
               ],
               [
                -73.9972843174275,
                40.7087398757526
               ],
               [
                -73.9980849575846,
                40.7085178712052
               ],
               [
                -73.9982874689805,
                40.708438187283
               ],
               [
                -73.9985290316991,
                40.7083397836959
               ],
               [
                -73.9985625920619,
                40.7083235390168
               ],
               [
                -73.9987234254532,
                40.7082457086585
               ],
               [
                -73.9987554116206,
                40.7082319067857
               ],
               [
                -73.9988099086944,
                40.7082083907446
               ],
               [
                -73.9988230301405,
                40.7081837374242
               ],
               [
                -73.9988827545862,
                40.7081448896568
               ],
               [
                -73.9989848556099,
                40.7081009090409
               ],
               [
                -73.9990542133816,
                40.7080408015769
               ],
               [
                -73.9991357952086,
                40.7079906526438
               ],
               [
                -73.9992245714498,
                40.7080609066013
               ],
               [
                -73.9992250793243,
                40.7080613083347
               ],
               [
                -73.9992977604811,
                40.7081188237005
               ],
               [
                -73.9993359468877,
                40.7081520169078
               ],
               [
                -73.9993782641511,
                40.7081881810502
               ],
               [
                -73.999496563818,
                40.7082873280141
               ],
               [
                -73.9997604418956,
                40.7084920777919
               ],
               [
                -73.9998708730376,
                40.7085777705854
               ],
               [
                -73.9999597915107,
                40.70864780384
               ],
               [
                -74.0000662829339,
                40.7087316866478
               ],
               [
                -74.0001369181538,
                40.7087873283596
               ],
               [
                -74.0002075664805,
                40.7088429712003
               ],
               [
                -74.000475938993,
                40.70905975513
               ],
               [
                -74.0012255672814,
                40.7096652751666
               ],
               [
                -74.0014207940246,
                40.7098230517488
               ],
               [
                -74.0012840328143,
                40.7100023094897
               ],
               [
                -74.0012362131045,
                40.7100635890661
               ],
               [
                -74.0011379143676,
                40.7101842207855
               ],
               [
                -74.0010047018511,
                40.7103622858608
               ],
               [
                -74.0009077831103,
                40.7104860874811
               ],
               [
                -74.0007543405801,
                40.7106820883656
               ],
               [
                -74.0006651159268,
                40.7107960590713
               ],
               [
                -74.0005113076137,
                40.7109925266913
               ],
               [
                -74.0006216973028,
                40.7110902408116
               ],
               [
                -74.0007155430649,
                40.7112003897905
               ],
               [
                -74.0007894603537,
                40.7113203646253
               ],
               [
                -74.0008410711241,
                40.7114469131695
               ],
               [
                -74.0008692620949,
                40.711576415202
               ],
               [
                -74.0008742105336,
                40.7117052246805
               ],
               [
                -74.0008921117561,
                40.7129912291818
               ],
               [
                -74.0008925586787,
                40.7130233561644
               ],
               [
                -74.0008978500824,
                40.7130556707393
               ],
               [
                -74.0009331895778,
                40.7132715097151
               ],
               [
                -74.0012584670562,
                40.7135050353717
               ],
               [
                -74.0015678032769,
                40.7136913207291
               ],
               [
                -74.0009698514504,
                40.7139138524063
               ],
               [
                -74.0007479704245,
                40.714518610659
               ],
               [
                -74.0004560774881,
                40.7143733045013
               ],
               [
                -74.0005287963275,
                40.7151783164229
               ],
               [
                -74.0007909988535,
                40.7152992254735
               ],
               [
                -74.0005798391024,
                40.715579159556
               ],
               [
                -74.0001396559167,
                40.7162079878353
               ],
               [
                -73.9999324245726,
                40.7165521716182
               ],
               [
                -73.9994498291498,
                40.717338054617
               ],
               [
                -73.9993138636572,
                40.717558499344
               ],
               [
                -73.9985907020773,
                40.7171077690408
               ],
               [
                -73.9977643060332,
                40.7168221861008
               ],
               [
                -73.9969851986644,
                40.7165488006225
               ],
               [
                -73.9960601723173,
                40.7162398981359
               ],
               [
                -73.9958105689716,
                40.71665291722
               ],
               [
                -73.9954302041833,
                40.7172875006976
               ],
               [
                -73.9948092348209,
                40.7184656847553
               ],
               [
                -73.9938293015812,
                40.7181527354279
               ],
               [
                -73.9930957664037,
                40.7179307365917
               ],
               [
                -73.9922220881238,
                40.7176667046016
               ],
               [
                -73.99142417105,
                40.7174258342416
               ],
               [
                -73.9913055977911,
                40.7173899397499
               ],
               [
                -73.9911776760679,
                40.7173512179064
               ],
               [
                -73.9907043448829,
                40.7172088637256
               ],
               [
                -73.98995163519,
                40.7169802333363
               ],
               [
                -73.9891560815202,
                40.7167169045297
               ],
               [
                -73.9897556258862,
                40.715560605851
               ],
               [
                -73.9902038033167,
                40.714672687711
               ],
               [
                -73.9902230000742,
                40.7145870137119
               ],
               [
                -73.9902289538663,
                40.714499926836
               ],
               [
                -73.9902215702532,
                40.7144131971672
               ],
               [
                -73.9893380083601,
                40.714141633261
               ],
               [
                -73.9887033563799,
                40.714193798442
               ],
               [
                -73.9884061331122,
                40.7142183092543
               ],
               [
                -73.9876683454419,
                40.714279079571
               ],
               [
                -73.9871677231403,
                40.7143203144013
               ],
               [
                -73.9858558186377,
                40.7144283931917
               ],
               [
                -73.9856727200998,
                40.7144435551982
               ],
               [
                -73.9855864947877,
                40.7144506621549
               ],
               [
                -73.9853454861699,
                40.714469835684
               ],
               [
                -73.9852447396617,
                40.7138539367258
               ],
               [
                -73.9851155075768,
                40.713795008729
               ],
               [
                -73.9850591437153,
                40.7130859749659
               ],
               [
                -73.9850327259178,
                40.7129081411287
               ],
               [
                -73.9850260635112,
                40.7128632880923
               ],
               [
                -73.9849518618185,
                40.7123637871131
               ],
               [
                -73.984854250111,
                40.711706399816
               ],
               [
                -73.9847855022564,
                40.7112370461948
               ],
               [
                -73.9847042284599,
                40.7107102726212
               ],
               [
                -73.9846850562258,
                40.7106133387567
               ],
               [
                -73.9846760358696,
                40.7105718340709
               ],
               [
                -73.9846663559954,
                40.7105224297259
               ],
               [
                -73.9846566867045,
                40.710473018345
               ],
               [
                -73.9844979121924,
                40.7095179204499
               ]
              ]
             ],
             "type": "Polygon"
            },
            "id": "124",
            "properties": {},
            "type": "Feature"
           },
           {
            "bbox": [
             -73.8877312964183,
             40.7566420857614,
             -73.8546413604111,
             40.7718791822139
            ],
            "geometry": {
             "coordinates": [
              [
               [
                -73.8609383205138,
                40.7637368868738
               ],
               [
                -73.8606383605883,
                40.7633443371659
               ],
               [
                -73.8598187687261,
                40.7622717231465
               ],
               [
                -73.8595886939924,
                40.7620085682422
               ],
               [
                -73.8595639280075,
                40.7619802378619
               ],
               [
                -73.8596680671528,
                40.7619101847447
               ],
               [
                -73.8597576934533,
                40.7618440706895
               ],
               [
                -73.859125163409,
                40.7612837696942
               ],
               [
                -73.8589676856602,
                40.7611670668742
               ],
               [
                -73.8588052816337,
                40.7610543353332
               ],
               [
                -73.858638125165,
                40.7609456941306
               ],
               [
                -73.8584663936424,
                40.7608412605298
               ],
               [
                -73.8582902715709,
                40.7607411445991
               ],
               [
                -73.8581099446417,
                40.7606454537074
               ],
               [
                -73.8579256056615,
                40.7605542889297
               ],
               [
                -73.8577374521759,
                40.760467748646
               ],
               [
                -73.8575456841087,
                40.7603859249366
               ],
               [
                -73.8573505049447,
                40.7603089044843
               ],
               [
                -73.8567073838963,
                40.7600521375221
               ],
               [
                -73.8565603611361,
                40.7599898322491
               ],
               [
                -73.8563835657338,
                40.7599149114073
               ],
               [
                -73.8560412132773,
                40.7597340578136
               ],
               [
                -73.8557713771746,
                40.7595466131501
               ],
               [
                -73.8555345201083,
                40.7593508624169
               ],
               [
                -73.8552528039913,
                40.7591558013541
               ],
               [
                -73.8550684289518,
                40.7589515481615
               ],
               [
                -73.8550106115878,
                40.7588874962435
               ],
               [
                -73.8546413604111,
                40.7584744279645
               ],
               [
                -73.8549743683048,
                40.7584273558653
               ],
               [
                -73.8553558116167,
                40.7584027203091
               ],
               [
                -73.8554050639265,
                40.7583485806658
               ],
               [
                -73.8556096024086,
                40.758313681446
               ],
               [
                -73.8569532710689,
                40.7581413979331
               ],
               [
                -73.8577549155634,
                40.75803554549
               ],
               [
                -73.8585627938781,
                40.7579207071704
               ],
               [
                -73.8588907276085,
                40.7579077467116
               ],
               [
                -73.8595147290097,
                40.7578868602917
               ],
               [
                -73.8599288669042,
                40.7578723720542
               ],
               [
                -73.8604630272706,
                40.7578520024811
               ],
               [
                -73.8610002285974,
                40.7578332640171
               ],
               [
                -73.8619075773191,
                40.7578031337923
               ],
               [
                -73.8628084473852,
                40.7577672542826
               ],
               [
                -73.863716404836,
                40.757733941656
               ],
               [
                -73.8646209728528,
                40.7577019866604
               ],
               [
                -73.865675776344,
                40.757637852753
               ],
               [
                -73.8665713821731,
                40.7575437910964
               ],
               [
                -73.8674647719543,
                40.7574498108801
               ],
               [
                -73.8684851556669,
                40.7573432077132
               ],
               [
                -73.8695045561668,
                40.7572362891248
               ],
               [
                -73.8704151216615,
                40.7571406827757
               ],
               [
                -73.87132536687,
                40.7570446105154
               ],
               [
                -73.8722199719337,
                40.7569514943926
               ],
               [
                -73.8731119558648,
                40.7568591518772
               ],
               [
                -73.873658626319,
                40.7568117548411
               ],
               [
                -73.8742094397277,
                40.7567398326479
               ],
               [
                -73.8751401523076,
                40.7566420857614
               ],
               [
                -73.8755122136301,
                40.7586879059852
               ],
               [
                -73.8758079550407,
                40.760316106458
               ],
               [
                -73.8760151283506,
                40.7614520022748
               ],
               [
                -73.8764947905092,
                40.7615388228368
               ],
               [
                -73.8769938346488,
                40.7616291461508
               ],
               [
                -73.8779744111711,
                40.7618032021533
               ],
               [
                -73.8784333618056,
                40.7618851101544
               ],
               [
                -73.8785703154302,
                40.7619180599996
               ],
               [
                -73.878955237947,
                40.7619922524832
               ],
               [
                -73.879421717186,
                40.7619532733994
               ],
               [
                -73.8798894751382,
                40.7619141838985
               ],
               [
                -73.8803426689194,
                40.7618659030237
               ],
               [
                -73.8808194960255,
                40.7618151035909
               ],
               [
                -73.8817490691255,
                40.7617131886307
               ],
               [
                -73.8820529255311,
                40.7616815231657
               ],
               [
                -73.8823707117373,
                40.7616484041996
               ],
               [
                -73.8826779434729,
                40.7616163794301
               ],
               [
                -73.8831279580863,
                40.761569426116
               ],
               [
                -73.8836084973436,
                40.761519275376
               ],
               [
                -73.8845379003614,
                40.7614217943468
               ],
               [
                -73.8854689597532,
                40.7613236870194
               ],
               [
                -73.8863985362833,
                40.7612247233309
               ],
               [
                -73.8867311396734,
                40.7630615314403
               ],
               [
                -73.8867955294844,
                40.7634122064123
               ],
               [
                -73.8870652957351,
                40.7648812408082
               ],
               [
                -73.8870794643625,
                40.7649559876003
               ],
               [
                -73.8870910545157,
                40.7650217259132
               ],
               [
                -73.8871069092253,
                40.7650660381872
               ],
               [
                -73.8875426323631,
                40.7663263957317
               ],
               [
                -73.8875557914588,
                40.7663682199105
               ],
               [
                -73.88757296174,
                40.7664193943402
               ],
               [
                -73.8876748810109,
                40.7667476817867
               ],
               [
                -73.8877080322426,
                40.7668468695716
               ],
               [
                -73.8877312964183,
                40.7669227057306
               ],
               [
                -73.8876474671215,
                40.7669412725666
               ],
               [
                -73.8868686253358,
                40.7671507071501
               ],
               [
                -73.8868026959478,
                40.7671697186856
               ],
               [
                -73.8867123070771,
                40.767195786804
               ],
               [
                -73.8862279934558,
                40.7673354542182
               ],
               [
                -73.8857060521819,
                40.7674973526552
               ],
               [
                -73.8852108948887,
                40.7676614996602
               ],
               [
                -73.8849172774967,
                40.7677689080108
               ],
               [
                -73.8846649103496,
                40.7678612257335
               ],
               [
                -73.8843205181451,
                40.7679899326877
               ],
               [
                -73.8836900389388,
                40.7682665173861
               ],
               [
                -73.8832128391248,
                40.7684716837983
               ],
               [
                -73.8831298878475,
                40.7685111660555
               ],
               [
                -73.8823850763594,
                40.7688656769994
               ],
               [
                -73.882036541917,
                40.7690466003459
               ],
               [
                -73.8814799601758,
                40.7693450335626
               ],
               [
                -73.8814324160873,
                40.7693717917633
               ],
               [
                -73.8805757516551,
                40.7698539015679
               ],
               [
                -73.8805290046095,
                40.7698796489543
               ],
               [
                -73.8799077520697,
                40.7702218107114
               ],
               [
                -73.879786265166,
                40.7702886338203
               ],
               [
                -73.8795196428585,
                40.7704352852246
               ],
               [
                -73.8791252889322,
                40.7706292091316
               ],
               [
                -73.8790002645429,
                40.7706890262775
               ],
               [
                -73.8787658080923,
                40.7708011969798
               ],
               [
                -73.8786488328341,
                40.7708505745619
               ],
               [
                -73.8780621076208,
                40.7710843663005
               ],
               [
                -73.8775375342983,
                40.7712613921009
               ],
               [
                -73.8769956737545,
                40.7714309318784
               ],
               [
                -73.8761121452052,
                40.7716387753089
               ],
               [
                -73.8760235661332,
                40.7716562038473
               ],
               [
                -73.8755286652651,
                40.7717380889395
               ],
               [
                -73.8752028591104,
                40.7717795730513
               ],
               [
                -73.8744114142896,
                40.7718558782434
               ],
               [
                -73.8740972563667,
                40.7718685440845
               ],
               [
                -73.8738334195283,
                40.7718791822139
               ],
               [
                -73.8729923998144,
                40.7718628137154
               ],
               [
                -73.8725973199033,
                40.77183921659
               ],
               [
                -73.8720612686508,
                40.7717756566813
               ],
               [
                -73.871847871607,
                40.771750352204
               ],
               [
                -73.8712871216006,
                40.7716524547084
               ],
               [
                -73.8707053829174,
                40.7714996370904
               ],
               [
                -73.870262835503,
                40.771365234663
               ],
               [
                -73.8701126799591,
                40.7713066254681
               ],
               [
                -73.8695706178698,
                40.7710950402893
               ],
               [
                -73.8688320781558,
                40.7707414743487
               ],
               [
                -73.8683884807755,
                40.7704853261062
               ],
               [
                -73.8680042257924,
                40.7702634416975
               ],
               [
                -73.867210727872,
                40.7697412548887
               ],
               [
                -73.8668368224083,
                40.769475018722
               ],
               [
                -73.8659848995502,
                40.7688683992703
               ],
               [
                -73.8653847374121,
                40.7683846959071
               ],
               [
                -73.86484136719,
                40.7679467566289
               ],
               [
                -73.8647666549097,
                40.7678802090018
               ],
               [
                -73.8646490353666,
                40.7677754403278
               ],
               [
                -73.8642737205376,
                40.7674411303204
               ],
               [
                -73.864042105745,
                40.7672158912967
               ],
               [
                -73.8634385481846,
                40.7666289325334
               ],
               [
                -73.8633236268342,
                40.7665123429488
               ],
               [
                -73.8631247425045,
                40.766310565704
               ],
               [
                -73.8629692670899,
                40.766150377345
               ],
               [
                -73.8629327503069,
                40.766112754028
               ],
               [
                -73.8617176437709,
                40.7646779876593
               ],
               [
                -73.8616602467851,
                40.7646102124594
               ],
               [
                -73.8609383205138,
                40.7637368868738
               ]
              ]
             ],
             "type": "Polygon"
            },
            "id": "171",
            "properties": {},
            "type": "Feature"
           },
           {
            "bbox": [
             -74.1009042067234,
             40.6354939674953,
             -74.0699850117707,
             40.6489337935378
            ],
            "geometry": {
             "coordinates": [
              [
               [
                -74.0725828048007,
                40.6379501149019
               ],
               [
                -74.0732988892616,
                40.6379117487952
               ],
               [
                -74.0737409541272,
                40.6378694731326
               ],
               [
                -74.0746959794727,
                40.6378134198362
               ],
               [
                -74.0748706407882,
                40.6378010501742
               ],
               [
                -74.0749285284596,
                40.6377985171282
               ],
               [
                -74.0749667577883,
                40.6377961850799
               ],
               [
                -74.0750766431108,
                40.6377936432613
               ],
               [
                -74.0752936200551,
                40.6377934968845
               ],
               [
                -74.0760145679418,
                40.6377799334921
               ],
               [
                -74.0768414439867,
                40.6377584990439
               ],
               [
                -74.0769405755638,
                40.6377898545732
               ],
               [
                -74.0779306288091,
                40.6381121581654
               ],
               [
                -74.0785468688193,
                40.638301619649
               ],
               [
                -74.078789778894,
                40.6382767981448
               ],
               [
                -74.0788524332942,
                40.6382653825389
               ],
               [
                -74.0789129830842,
                40.6382486219603
               ],
               [
                -74.0789706447616,
                40.6382267339758
               ],
               [
                -74.0790246715483,
                40.6382000000648
               ],
               [
                -74.0805531534529,
                40.6373282390418
               ],
               [
                -74.0808708564439,
                40.6371478797437
               ],
               [
                -74.0817808729539,
                40.6366312538007
               ],
               [
                -74.0830223809167,
                40.6360333097745
               ],
               [
                -74.0837354412153,
                40.6357453828931
               ],
               [
                -74.0851360997542,
                40.6363678380283
               ],
               [
                -74.0856913023672,
                40.6366155187203
               ],
               [
                -74.0858802976291,
                40.6366998284321
               ],
               [
                -74.0869073985997,
                40.6358654818208
               ],
               [
                -74.0875992212594,
                40.6362702626726
               ],
               [
                -74.0887072934659,
                40.6368534450793
               ],
               [
                -74.0889188214593,
                40.6365366230219
               ],
               [
                -74.0891038333107,
                40.6362552655632
               ],
               [
                -74.0891606678122,
                40.6361745628715
               ],
               [
                -74.089223147554,
                40.636096319592
               ],
               [
                -74.0892910907889,
                40.6360207645887
               ],
               [
                -74.089364296848,
                40.6359481186351
               ],
               [
                -74.0894425520535,
                40.6358785953107
               ],
               [
                -74.0895256273481,
                40.6358123965
               ],
               [
                -74.0896132794831,
                40.6357497168943
               ],
               [
                -74.0897052533767,
                40.6356907394878
               ],
               [
                -74.0902788564553,
                40.6355072680441
               ],
               [
                -74.0909084583152,
                40.6354939674953
               ],
               [
                -74.0917341607742,
                40.6355568667771
               ],
               [
                -74.091821729797,
                40.635563536369
               ],
               [
                -74.0924404115719,
                40.6356046230358
               ],
               [
                -74.09302153107,
                40.6362179602491
               ],
               [
                -74.0933908948232,
                40.6366077938333
               ],
               [
                -74.0936278124551,
                40.6372919338609
               ],
               [
                -74.0938642360029,
                40.6380331558812
               ],
               [
                -74.0940945973452,
                40.639275153009
               ],
               [
                -74.0957107209667,
                40.6391068800136
               ],
               [
                -74.096380535363,
                40.6390436092753
               ],
               [
                -74.0968638942807,
                40.6390157102631
               ],
               [
                -74.0976743812558,
                40.6389689180764
               ],
               [
                -74.0978811651006,
                40.6403662941613
               ],
               [
                -74.0992898120037,
                40.6402129626617
               ],
               [
                -74.09990557085,
                40.6401711936507
               ],
               [
                -74.1001673816029,
                40.6418010623178
               ],
               [
                -74.1003931413107,
                40.6431266059852
               ],
               [
                -74.0995708634478,
                40.6431635208714
               ],
               [
                -74.0996629727652,
                40.6441709335434
               ],
               [
                -74.0997174777915,
                40.6447671108126
               ],
               [
                -74.1009042067234,
                40.6447814745229
               ],
               [
                -74.1007290303465,
                40.6450215317103
               ],
               [
                -74.1004944922793,
                40.6449791459694
               ],
               [
                -74.1001338207811,
                40.644928616394
               ],
               [
                -74.1001336675441,
                40.6450722906987
               ],
               [
                -74.0997126036972,
                40.6450639503479
               ],
               [
                -74.0988021426952,
                40.6450552744315
               ],
               [
                -74.0985012898209,
                40.645378601725
               ],
               [
                -74.0960470256219,
                40.6453809874865
               ],
               [
                -74.0946864822241,
                40.6455639574981
               ],
               [
                -74.0936280422211,
                40.6458468989682
               ],
               [
                -74.0930410744649,
                40.6459702385128
               ],
               [
                -74.092989754601,
                40.6459810214078
               ],
               [
                -74.0930065451415,
                40.6460845548622
               ],
               [
                -74.0913584514454,
                40.6467089645472
               ],
               [
                -74.0909617130597,
                40.6468271839253
               ],
               [
                -74.0899248122689,
                40.6471843723814
               ],
               [
                -74.0893989964798,
                40.6473186002775
               ],
               [
                -74.0884566880401,
                40.647851710913
               ],
               [
                -74.0883619062019,
                40.6479161465266
               ],
               [
                -74.0882759147246,
                40.6479288909634
               ],
               [
                -74.088242596199,
                40.6479098975858
               ],
               [
                -74.0879395127196,
                40.6480883342215
               ],
               [
                -74.0876758977335,
                40.6482435345141
               ],
               [
                -74.0863461465882,
                40.6487078500495
               ],
               [
                -74.0857090133641,
                40.6488887941076
               ],
               [
                -74.0852284542643,
                40.6489337935378
               ],
               [
                -74.0848455022297,
                40.6488993887379
               ],
               [
                -74.08483120947,
                40.6488948984915
               ],
               [
                -74.0847622183474,
                40.6488830264994
               ],
               [
                -74.08469541776,
                40.6488653210966
               ],
               [
                -74.0846316533626,
                40.6488420085953
               ],
               [
                -74.0845717342414,
                40.6488133837754
               ],
               [
                -74.0839046860281,
                40.648589909883
               ],
               [
                -74.0825673275387,
                40.6483240596594
               ],
               [
                -74.0822141976463,
                40.6482884035815
               ],
               [
                -74.0821254126322,
                40.6482863535018
               ],
               [
                -74.0820477636683,
                40.6483159945526
               ],
               [
                -74.0818675042957,
                40.648381632116
               ],
               [
                -74.0816539328332,
                40.6484325011401
               ],
               [
                -74.0814237503258,
                40.6485129662548
               ],
               [
                -74.081357506736,
                40.6484991847786
               ],
               [
                -74.0809574516268,
                40.6483569177582
               ],
               [
                -74.0807298555567,
                40.6482831145842
               ],
               [
                -74.0805197064305,
                40.6482537555308
               ],
               [
                -74.0798114324735,
                40.6483915539653
               ],
               [
                -74.0792339950091,
                40.6481945668572
               ],
               [
                -74.0789969312906,
                40.6481507954584
               ],
               [
                -74.0770880470023,
                40.6472081027472
               ],
               [
                -74.0769948783276,
                40.6472140932745
               ],
               [
                -74.076830424083,
                40.6470887637586
               ],
               [
                -74.0765080386106,
                40.6469770595656
               ],
               [
                -74.076210691588,
                40.6467321232961
               ],
               [
                -74.0759936941929,
                40.6465602642829
               ],
               [
                -74.0753091374372,
                40.6459212627884
               ],
               [
                -74.0744542923479,
                40.6450757291787
               ],
               [
                -74.0740795871564,
                40.6450925695251
               ],
               [
                -74.0739598661606,
                40.6452014463308
               ],
               [
                -74.0738740463444,
                40.6451560568266
               ],
               [
                -74.0735925456714,
                40.645007169084
               ],
               [
                -74.0734999792784,
                40.6450916140735
               ],
               [
                -74.073760078872,
                40.6453215921518
               ],
               [
                -74.0738023491205,
                40.6452939479306
               ],
               [
                -74.0738305781091,
                40.6453200133288
               ],
               [
                -74.0737802695018,
                40.6453645393347
               ],
               [
                -74.0738356599942,
                40.6454156217159
               ],
               [
                -74.0738580025291,
                40.6454330567151
               ],
               [
                -74.0738228985427,
                40.6454517244904
               ],
               [
                -74.0733396050698,
                40.645791357183
               ],
               [
                -74.073246861087,
                40.6457131657422
               ],
               [
                -74.0734884069471,
                40.6455580486222
               ],
               [
                -74.0734198539665,
                40.6454967202752
               ],
               [
                -74.0736915840147,
                40.6453139654476
               ],
               [
                -74.0734657638246,
                40.6451161840716
               ],
               [
                -74.0733347541565,
                40.6450426214869
               ],
               [
                -74.0733508546217,
                40.645030337151
               ],
               [
                -74.0732400039227,
                40.6449721046323
               ],
               [
                -74.0730589150007,
                40.6451532672678
               ],
               [
                -74.0730266707332,
                40.6451394791975
               ],
               [
                -74.0732037250785,
                40.6449521821473
               ],
               [
                -74.0730138660771,
                40.6448469205686
               ],
               [
                -74.073057064524,
                40.6448161584355
               ],
               [
                -74.0734153036931,
                40.6450241589906
               ],
               [
                -74.0734273740481,
                40.6450088091502
               ],
               [
                -74.073274195293,
                40.6449245201645
               ],
               [
                -74.0733466378174,
                40.6448584983931
               ],
               [
                -74.0731233073508,
                40.6447230405374
               ],
               [
                -74.0729273160773,
                40.6448723142786
               ],
               [
                -74.0728811066005,
                40.6448524205018
               ],
               [
                -74.0727999693399,
                40.6449183646366
               ],
               [
                -74.0725892210511,
                40.6447991035109
               ],
               [
                -74.0727045485467,
                40.6446538364488
               ],
               [
                -74.0726937315833,
                40.6446456107466
               ],
               [
                -74.0725976374329,
                40.6447437136064
               ],
               [
                -74.0725661479853,
                40.6447279897158
               ],
               [
                -74.0726137934164,
                40.644683530757
               ],
               [
                -74.0726008153319,
                40.6446753055101
               ],
               [
                -74.0725741045946,
                40.6447020443575
               ],
               [
                -74.0725273413941,
                40.6446782803591
               ],
               [
                -74.072576983299,
                40.6446259262106
               ],
               [
                -74.0726288896157,
                40.6446522381099
               ],
               [
                -74.0726180899709,
                40.6446588295217
               ],
               [
                -74.0726245781158,
                40.6446621186208
               ],
               [
                -74.0726677730491,
                40.6446291611713
               ],
               [
                -74.0725553046536,
                40.6445683121061
               ],
               [
                -74.0725445002542,
                40.6445716121188
               ],
               [
                -74.0725336862958,
                40.6445650325475
               ],
               [
                -74.0725876963508,
                40.6445386546983
               ],
               [
                -74.0726006737971,
                40.6445452328987
               ],
               [
                -74.0725855531409,
                40.6445551211324
               ],
               [
                -74.0727261376129,
                40.6446291242752
               ],
               [
                -74.0727918881739,
                40.644560258743
               ],
               [
                -74.0727473252571,
                40.6445322718098
               ],
               [
                -74.0727840717989,
                40.6445000802339
               ],
               [
                -74.0726997542097,
                40.6444495145204
               ],
               [
                -74.0723324741456,
                40.64460811402
               ],
               [
                -74.0717081822654,
                40.645030890514
               ],
               [
                -74.0717178771036,
                40.6450401066782
               ],
               [
                -74.0716888397772,
                40.6450585692035
               ],
               [
                -74.0716597624314,
                40.6450419871685
               ],
               [
                -74.0716839454059,
                40.6450124603041
               ],
               [
                -74.0716888001416,
                40.6450216803883
               ],
               [
                -74.0723106556673,
                40.6445859938962
               ],
               [
                -74.0722573502471,
                40.6445546713466
               ],
               [
                -74.0721629489818,
                40.6445897761046
               ],
               [
                -74.0720198975599,
                40.6444201738674
               ],
               [
                -74.0721142835241,
                40.6443721585008
               ],
               [
                -74.0720997271936,
                40.6443463452581
               ],
               [
                -74.0722336495151,
                40.6442965102645
               ],
               [
                -74.0722933682301,
                40.6442742884621
               ],
               [
                -74.0721863512073,
                40.6441187055537
               ],
               [
                -74.0719784835496,
                40.6441896400252
               ],
               [
                -74.0719639432267,
                40.6441785826525
               ],
               [
                -74.0718622735782,
                40.6442100022891
               ],
               [
                -74.0717579457686,
                40.6440200859299
               ],
               [
                -74.0718717163667,
                40.643983126036
               ],
               [
                -74.071864433725,
                40.6439665304273
               ],
               [
                -74.0719394663469,
                40.643935126554
               ],
               [
                -74.0719491610578,
                40.6439443426998
               ],
               [
                -74.0720596403186,
                40.6439086679178
               ],
               [
                -74.0720022671746,
                40.6437893734308
               ],
               [
                -74.071907705559,
                40.6438053501672
               ],
               [
                -74.0717940580394,
                40.643824549092
               ],
               [
                -74.0717722173688,
                40.6437802950309
               ],
               [
                -74.0716511597316,
                40.6437951264212
               ],
               [
                -74.0715903823573,
                40.6435995554174
               ],
               [
                -74.0716293414034,
                40.6435865807981
               ],
               [
                -74.0715982570481,
                40.6434683980777
               ],
               [
                -74.0713575871711,
                40.643505545481
               ],
               [
                -74.0713425598463,
                40.6434644659398
               ],
               [
                -74.0714923654932,
                40.6434369809265
               ],
               [
                -74.0714743118502,
                40.6433685131078
               ],
               [
                -74.0715035291837,
                40.6433631062405
               ],
               [
                -74.0714834890119,
                40.643300865844
               ],
               [
                -74.0714447822279,
                40.6432788019766
               ],
               [
                -74.0714180629154,
                40.6432013496534
               ],
               [
                -74.0713063382334,
                40.6432202443295
               ],
               [
                -74.0713093448932,
                40.643229372824
               ],
               [
                -74.071144557554,
                40.6432591496844
               ],
               [
                -74.071132522452,
                40.6432135044348
               ],
               [
                -74.0715040972733,
                40.643137544869
               ],
               [
                -74.0714792379082,
                40.6428165344104
               ],
               [
                -74.0716468741069,
                40.6428086000765
               ],
               [
                -74.0716503871541,
                40.6426881724183
               ],
               [
                -74.0717043262269,
                40.6426881387972
               ],
               [
                -74.0717049845301,
                40.6428045754587
               ],
               [
                -74.0721858146345,
                40.642722333728
               ],
               [
                -74.0721109903111,
                40.6424714574277
               ],
               [
                -74.0703757748236,
                40.6426996432968
               ],
               [
                -74.070330701788,
                40.6425343680519
               ],
               [
                -74.0732397575385,
                40.6421929763289
               ],
               [
                -74.0731454710255,
                40.6418612140695
               ],
               [
                -74.0702480516642,
                40.6422152143897
               ],
               [
                -74.070195460036,
                40.6420157437735
               ],
               [
                -74.0730883639843,
                40.6416450547175
               ],
               [
                -74.0728915212022,
                40.6409309123947
               ],
               [
                -74.0719642749415,
                40.6410038189047
               ],
               [
                -74.0719832338372,
                40.641020640438
               ],
               [
                -74.0718064689483,
                40.641037583455
               ],
               [
                -74.0718128838602,
                40.6411313639896
               ],
               [
                -74.0700199564281,
                40.6412863719902
               ],
               [
                -74.0699850117707,
                40.6410771829177
               ],
               [
                -74.0717779454153,
                40.6409341991795
               ],
               [
                -74.0717780455494,
                40.6409294776964
               ],
               [
                -74.0717790690282,
                40.6409248213747
               ],
               [
                -74.0717809934999,
                40.6409203319872
               ],
               [
                -74.0717837765176,
                40.6409161131198
               ],
               [
                -74.0717873543429,
                40.6409122566653
               ],
               [
                -74.0717916466821,
                40.640908850024
               ],
               [
                -74.0717965590452,
                40.6409059706996
               ],
               [
                -74.0718016440859,
                40.6409031669107
               ],
               [
                -74.0718072263008,
                40.6409009796666
               ],
               [
                -74.071813176888,
                40.6408994594766
               ],
               [
                -74.0718193611162,
                40.6408986397442
               ],
               [
                -74.0718256371467,
                40.6408985403692
               ],
               [
                -74.0718318607581,
                40.6408991641434
               ],
               [
                -74.0718378888907,
                40.6409004949466
               ],
               [
                -74.0718378992462,
                40.6409101133826
               ],
               [
                -74.07285187726,
                40.6408119285384
               ],
               [
                -74.072778365953,
                40.6405372033437
               ],
               [
                -74.0730787234359,
                40.6405215518417
               ],
               [
                -74.0730918214394,
                40.6386272395415
               ],
               [
                -74.0730341249213,
                40.6385988495141
               ],
               [
                -74.0729307996448,
                40.6386008890331
               ],
               [
                -74.0729274766072,
                40.6384493941007
               ],
               [
                -74.0730176462967,
                40.6384348736388
               ],
               [
                -74.0730159109743,
                40.638417623495
               ],
               [
                -74.0729334644823,
                40.6384227277313
               ],
               [
                -74.0729242493768,
                40.6383844696157
               ],
               [
                -74.0728741207451,
                40.6383882268443
               ],
               [
                -74.0727948338322,
                40.6383941700636
               ],
               [
                -74.0727222301245,
                40.6383942160043
               ],
               [
                -74.0726717122081,
                40.6383846294976
               ],
               [
                -74.0726148465617,
                40.638343784554
               ],
               [
                -74.0725895562358,
                40.6383101337123
               ],
               [
                -74.0725831954353,
                40.6382668533727
               ],
               [
                -74.0726108036803,
                40.6382351349652
               ],
               [
                -74.0723899948977,
                40.6382535051996
               ],
               [
                -74.0723808763131,
                40.6381709657491
               ],
               [
                -74.0726077935427,
                40.6381445473369
               ],
               [
                -74.0725828048007,
                40.6379501149019
               ]
              ]
             ],
             "type": "Polygon"
            },
            "id": "239",
            "properties": {},
            "type": "Feature"
           },
           {
            "bbox": [
             -74.124893161571,
             40.609009384729,
             -74.0797263894259,
             40.6455873685
            ],
            "geometry": {
             "coordinates": [
              [
               [
                -74.1047236915607,
                40.6455718967893
               ],
               [
                -74.1047096956057,
                40.6454977851303
               ],
               [
                -74.104653461807,
                40.6453078358558
               ],
               [
                -74.1066263828212,
                40.6452617909195
               ],
               [
                -74.1067454649583,
                40.6452590140096
               ],
               [
                -74.1077992578623,
                40.6452344014074
               ],
               [
                -74.1076888225674,
                40.6451308452482
               ],
               [
                -74.1075932107624,
                40.6450186049184
               ],
               [
                -74.1075140321588,
                40.6448995943533
               ],
               [
                -74.1071605380405,
                40.6442117207212
               ],
               [
                -74.1065480030262,
                40.644249535345
               ],
               [
                -74.1063512388502,
                40.6433336285214
               ],
               [
                -74.1060724348731,
                40.6420461707377
               ],
               [
                -74.1059384980052,
                40.6413644742042
               ],
               [
                -74.105598070109,
                40.6397377749752
               ],
               [
                -74.1054243413796,
                40.6389072052168
               ],
               [
                -74.1048113836494,
                40.6389849400764
               ],
               [
                -74.1039485603882,
                40.6391959324493
               ],
               [
                -74.1037161521486,
                40.6392517259692
               ],
               [
                -74.1032101282791,
                40.6393723033561
               ],
               [
                -74.1030540861077,
                40.6394094843722
               ],
               [
                -74.1021673022709,
                40.6396263724266
               ],
               [
                -74.1012980083997,
                40.6398353965037
               ],
               [
                -74.1004260565417,
                40.6400492692195
               ],
               [
                -74.09990557085,
                40.6401711936507
               ],
               [
                -74.0992898120037,
                40.6402129626617
               ],
               [
                -74.0978811651006,
                40.6403662941613
               ],
               [
                -74.0976743812558,
                40.6389689180764
               ],
               [
                -74.0968638942807,
                40.6390157102631
               ],
               [
                -74.096380535363,
                40.6390436092753
               ],
               [
                -74.0957107209667,
                40.6391068800136
               ],
               [
                -74.0940945973452,
                40.639275153009
               ],
               [
                -74.0938642360029,
                40.6380331558812
               ],
               [
                -74.0936278124551,
                40.6372919338609
               ],
               [
                -74.0933908948232,
                40.6366077938333
               ],
               [
                -74.09302153107,
                40.6362179602491
               ],
               [
                -74.0924404115719,
                40.6356046230358
               ],
               [
                -74.091821729797,
                40.635563536369
               ],
               [
                -74.0917341607742,
                40.6355568667771
               ],
               [
                -74.0909084583152,
                40.6354939674953
               ],
               [
                -74.0902788564553,
                40.6355072680441
               ],
               [
                -74.0897052533767,
                40.6356907394878
               ],
               [
                -74.0896132794831,
                40.6357497168943
               ],
               [
                -74.0895256273481,
                40.6358123965
               ],
               [
                -74.0894425520535,
                40.6358785953107
               ],
               [
                -74.089364296848,
                40.6359481186351
               ],
               [
                -74.0892910907889,
                40.6360207645887
               ],
               [
                -74.089223147554,
                40.636096319592
               ],
               [
                -74.0891606678122,
                40.6361745628715
               ],
               [
                -74.0891038333107,
                40.6362552655632
               ],
               [
                -74.0889188214593,
                40.6365366230219
               ],
               [
                -74.0887072934659,
                40.6368534450793
               ],
               [
                -74.0875992212594,
                40.6362702626726
               ],
               [
                -74.0869073985997,
                40.6358654818208
               ],
               [
                -74.0858802976291,
                40.6366998284321
               ],
               [
                -74.0856913023672,
                40.6366155187203
               ],
               [
                -74.0851360997542,
                40.6363678380283
               ],
               [
                -74.0837354412153,
                40.6357453828931
               ],
               [
                -74.0839481829487,
                40.6356623439492
               ],
               [
                -74.084437945284,
                40.6354134869583
               ],
               [
                -74.0857507597017,
                40.6339637962811
               ],
               [
                -74.0854758689326,
                40.633866986173
               ],
               [
                -74.0852022916177,
                40.6337706364007
               ],
               [
                -74.0849146852967,
                40.6336481623552
               ],
               [
                -74.0834388524602,
                40.6322886420547
               ],
               [
                -74.082601213258,
                40.6314756037416
               ],
               [
                -74.0820158976934,
                40.6308997638281
               ],
               [
                -74.0814076216934,
                40.6303094739139
               ],
               [
                -74.0817328210313,
                40.6300204635205
               ],
               [
                -74.0807596870461,
                40.6295022805282
               ],
               [
                -74.0797263894259,
                40.6289589254585
               ],
               [
                -74.0803813562341,
                40.6282701387842
               ],
               [
                -74.0804556795619,
                40.628192859082
               ],
               [
                -74.0805174875804,
                40.6281081218834
               ],
               [
                -74.0805649741557,
                40.6280177574307
               ],
               [
                -74.0805970333072,
                40.6279239457758
               ],
               [
                -74.0806132659548,
                40.6278289376116
               ],
               [
                -74.0806204896474,
                40.6277327939022
               ],
               [
                -74.0806483738543,
                40.6276369130604
               ],
               [
                -74.0806966146441,
                40.6275451342025
               ],
               [
                -74.0807633039797,
                40.6274610958448
               ],
               [
                -74.0808451820549,
                40.6273877278392
               ],
               [
                -74.0809977222753,
                40.6273480516088
               ],
               [
                -74.0816536702426,
                40.627359266452
               ],
               [
                -74.0818349920686,
                40.627409081286
               ],
               [
                -74.0820257517075,
                40.6274433623293
               ],
               [
                -74.0822224098841,
                40.627460781998
               ],
               [
                -74.0824210687605,
                40.6274606397497
               ],
               [
                -74.0826176847968,
                40.6274429384799
               ],
               [
                -74.0828083595265,
                40.6274083843131
               ],
               [
                -74.0829895569559,
                40.6273583098998
               ],
               [
                -74.0830639363127,
                40.6273207414079
               ],
               [
                -74.0832625437682,
                40.6272029798791
               ],
               [
                -74.0834498450913,
                40.6270726738589
               ],
               [
                -74.0836238357624,
                40.6269308145321
               ],
               [
                -74.0837827562666,
                40.6267786369538
               ],
               [
                -74.0839250920586,
                40.6266175921296
               ],
               [
                -74.0840496798219,
                40.6264492577823
               ],
               [
                -74.0841556672949,
                40.6262753518858
               ],
               [
                -74.0849635876803,
                40.6246334698088
               ],
               [
                -74.0852513844486,
                40.6228091070762
               ],
               [
                -74.0853734995351,
                40.6222135650702
               ],
               [
                -74.0854901370646,
                40.6216614140667
               ],
               [
                -74.0856065480705,
                40.6211543755779
               ],
               [
                -74.0856182711157,
                40.6211078360291
               ],
               [
                -74.0858141603542,
                40.6203837845537
               ],
               [
                -74.0859003038678,
                40.6199176645514
               ],
               [
                -74.0860070134884,
                40.6191080991323
               ],
               [
                -74.0860427127149,
                40.6188284128686
               ],
               [
                -74.0860950414396,
                40.6185275581872
               ],
               [
                -74.0861090252265,
                40.6184111121218
               ],
               [
                -74.0861290661967,
                40.6182951811156
               ],
               [
                -74.0861551326476,
                40.6181799479952
               ],
               [
                -74.0861871857841,
                40.6180655937904
               ],
               [
                -74.0862251726324,
                40.617952300441
               ],
               [
                -74.0862690343067,
                40.6178402462888
               ],
               [
                -74.0865730456441,
                40.617177621276
               ],
               [
                -74.0869868579211,
                40.6165412166007
               ],
               [
                -74.0874148599225,
                40.6159375605686
               ],
               [
                -74.0876932073323,
                40.6155433875186
               ],
               [
                -74.087835223922,
                40.6153258850896
               ],
               [
                -74.0878529096382,
                40.6152514704858
               ],
               [
                -74.0878529448763,
                40.615251308365
               ],
               [
                -74.0878529446748,
                40.6152511552765
               ],
               [
                -74.0878498994888,
                40.6151731094029
               ],
               [
                -74.087849899298,
                40.6151729644191
               ],
               [
                -74.0878498518173,
                40.615172803262
               ],
               [
                -74.0878248877272,
                40.6150961699454
               ],
               [
                -74.087824840281,
                40.6150960349034
               ],
               [
                -74.0878247692362,
                40.6150959268951
               ],
               [
                -74.0877795711183,
                40.6150258558178
               ],
               [
                -74.0877794775607,
                40.6150257019001
               ],
               [
                -74.0877793355671,
                40.6150255588256
               ],
               [
                -74.0877180435857,
                40.6149660901461
               ],
               [
                -74.087618983105,
                40.614840904051
               ],
               [
                -74.0875370344149,
                40.6147078495892
               ],
               [
                -74.087473653703,
                40.6145690374121
               ],
               [
                -74.0874297206618,
                40.6144267352947
               ],
               [
                -74.0872112963653,
                40.6133152072532
               ],
               [
                -74.0874884307271,
                40.6129405867337
               ],
               [
                -74.087917154116,
                40.6122955301514
               ],
               [
                -74.088217747072,
                40.6118486869422
               ],
               [
                -74.0883338097203,
                40.6116802713599
               ],
               [
                -74.0888673544845,
                40.6108675271921
               ],
               [
                -74.0889984112359,
                40.6106726248805
               ],
               [
                -74.0895895863213,
                40.6098563196895
               ],
               [
                -74.0901097720545,
                40.6094116224757
               ],
               [
                -74.0903639428491,
                40.6091891200412
               ],
               [
                -74.0904564284608,
                40.6091027592622
               ],
               [
                -74.0905585816646,
                40.609009384729
               ],
               [
                -74.090689519153,
                40.6090722279845
               ],
               [
                -74.0908995060704,
                40.6091582519765
               ],
               [
                -74.0917684250023,
                40.6095142123713
               ],
               [
                -74.0920664185093,
                40.609633252713
               ],
               [
                -74.0925694345958,
                40.6098341928185
               ],
               [
                -74.0930738627939,
                40.6100084327004
               ],
               [
                -74.0932035020672,
                40.6100532186732
               ],
               [
                -74.0935904266328,
                40.6101641808736
               ],
               [
                -74.0938160637943,
                40.6102162199978
               ],
               [
                -74.0941358520829,
                40.6102899697376
               ],
               [
                -74.0943364763266,
                40.6103362451708
               ],
               [
                -74.0950774885544,
                40.6104532166555
               ],
               [
                -74.0954534144869,
                40.6105041807992
               ],
               [
                -74.0956842112895,
                40.6105160973164
               ],
               [
                -74.0959340314964,
                40.6105289952724
               ],
               [
                -74.0961134992863,
                40.6105382647995
               ],
               [
                -74.0966225224588,
                40.6105462137753
               ],
               [
                -74.0971576355395,
                40.6105317883892
               ],
               [
                -74.09724018111,
                40.6105295627341
               ],
               [
                -74.0974296613972,
                40.6105244935285
               ],
               [
                -74.0975801400525,
                40.6105189699463
               ],
               [
                -74.0976615595626,
                40.6105159804012
               ],
               [
                -74.0977711589642,
                40.6106318258376
               ],
               [
                -74.0978790553563,
                40.6107375552536
               ],
               [
                -74.0981045927185,
                40.6109697516887
               ],
               [
                -74.0984720825001,
                40.611362137078
               ],
               [
                -74.0986229850572,
                40.6115271454201
               ],
               [
                -74.0993519031023,
                40.6124273097812
               ],
               [
                -74.0998788108202,
                40.6129268859258
               ],
               [
                -74.1005531578988,
                40.6134687804493
               ],
               [
                -74.1006852325987,
                40.6135613834622
               ],
               [
                -74.1012776163432,
                40.6139936358093
               ],
               [
                -74.1020958162291,
                40.6146087247922
               ],
               [
                -74.1025694955478,
                40.6151956773895
               ],
               [
                -74.1030274045309,
                40.615789342024
               ],
               [
                -74.103510726851,
                40.6164243095613
               ],
               [
                -74.1040310940552,
                40.6170037414701
               ],
               [
                -74.1045855667422,
                40.6176211356753
               ],
               [
                -74.1049547171852,
                40.618030797645
               ],
               [
                -74.1051176961021,
                40.6182112383967
               ],
               [
                -74.1051885722185,
                40.6182897089381
               ],
               [
                -74.1055274633608,
                40.6186005636066
               ],
               [
                -74.1060908710859,
                40.6189924301065
               ],
               [
                -74.1073423657875,
                40.619551311537
               ],
               [
                -74.1077078285154,
                40.6197077324504
               ],
               [
                -74.1091095378985,
                40.6203044746945
               ],
               [
                -74.1100169833401,
                40.6206965793014
               ],
               [
                -74.1109454053937,
                40.6212027237219
               ],
               [
                -74.1115354148697,
                40.6216118809448
               ],
               [
                -74.1123523577692,
                40.6222735268212
               ],
               [
                -74.1132639726394,
                40.6230626603569
               ],
               [
                -74.1154206960623,
                40.6239191981134
               ],
               [
                -74.1162756061652,
                40.6242476562606
               ],
               [
                -74.1170152372637,
                40.6245318126463
               ],
               [
                -74.1171754876239,
                40.6245865722006
               ],
               [
                -74.1173328508321,
                40.6246459937738
               ],
               [
                -74.1174870939275,
                40.6247099893647
               ],
               [
                -74.1176379886597,
                40.6247784628636
               ],
               [
                -74.1177853103129,
                40.6248513136556
               ],
               [
                -74.1179288400647,
                40.6249284339162
               ],
               [
                -74.1180683649861,
                40.6250097086116
               ],
               [
                -74.1182036792261,
                40.6250950172979
               ],
               [
                -74.1183345816469,
                40.6251842332238
               ],
               [
                -74.1184608770083,
                40.625277225129
               ],
               [
                -74.1191661567785,
                40.6258320636274
               ],
               [
                -74.1196758392056,
                40.6261996572332
               ],
               [
                -74.1201303591603,
                40.6265443888688
               ],
               [
                -74.1205701048202,
                40.6269969364437
               ],
               [
                -74.1212582600738,
                40.6278309864649
               ],
               [
                -74.1220570336365,
                40.6283715243847
               ],
               [
                -74.1230354145118,
                40.6290194516781
               ],
               [
                -74.1232211852652,
                40.629256827186
               ],
               [
                -74.123615668839,
                40.6298525843926
               ],
               [
                -74.1240197998743,
                40.6304420594846
               ],
               [
                -74.1243171358425,
                40.63088334463
               ],
               [
                -74.1244910820903,
                40.6311428422138
               ],
               [
                -74.124893161571,
                40.6317362273528
               ],
               [
                -74.1238617875727,
                40.6318432271493
               ],
               [
                -74.1227954025668,
                40.6319726681384
               ],
               [
                -74.1216866117609,
                40.6320992624541
               ],
               [
                -74.1204384135161,
                40.6322482530473
               ],
               [
                -74.1191680855721,
                40.6323997285507
               ],
               [
                -74.1181058583418,
                40.6325296169962
               ],
               [
                -74.1168376756955,
                40.632683054683
               ],
               [
                -74.1169598641774,
                40.6333596452612
               ],
               [
                -74.1170461898179,
                40.6338248471651
               ],
               [
                -74.1170793376001,
                40.6340153454606
               ],
               [
                -74.1172009508669,
                40.6345763356181
               ],
               [
                -74.1178119080059,
                40.6345286680743
               ],
               [
                -74.1179074378121,
                40.6345183411455
               ],
               [
                -74.1179845676586,
                40.6345100015561
               ],
               [
                -74.1183872042264,
                40.634466469895
               ],
               [
                -74.1184947329636,
                40.6344548441803
               ],
               [
                -74.1185962388404,
                40.6344457388293
               ],
               [
                -74.1192756902235,
                40.6343847795053
               ],
               [
                -74.1194321785976,
                40.6343707382492
               ],
               [
                -74.1197955665928,
                40.6343428709418
               ],
               [
                -74.1198840855109,
                40.6343360806135
               ],
               [
                -74.1202398463909,
                40.6343087961865
               ],
               [
                -74.120255335713,
                40.6343971795439
               ],
               [
                -74.1203834499724,
                40.6351282146462
               ],
               [
                -74.1204044301637,
                40.6352479204183
               ],
               [
                -74.1204254904594,
                40.6353680862669
               ],
               [
                -74.1206311105641,
                40.6365809872737
               ],
               [
                -74.1200326364461,
                40.6366452821365
               ],
               [
                -74.1197532341418,
                40.6366749151046
               ],
               [
                -74.1193668050395,
                40.6367252606422
               ],
               [
                -74.1192393940914,
                40.6367418597444
               ],
               [
                -74.1189994275123,
                40.6367731213429
               ],
               [
                -74.1188744343914,
                40.6367894050577
               ],
               [
                -74.1187371218781,
                40.6368072925771
               ],
               [
                -74.1186064003267,
                40.6368243221429
               ],
               [
                -74.1184740276993,
                40.6368415666844
               ],
               [
                -74.11834409429,
                40.6368584924804
               ],
               [
                -74.1181926988531,
                40.6368782146939
               ],
               [
                -74.1180213871801,
                40.6369005317379
               ],
               [
                -74.1178484468327,
                40.636923060017
               ],
               [
                -74.1176871485599,
                40.6369440704515
               ],
               [
                -74.1175505031447,
                40.6369618703209
               ],
               [
                -74.1176587042513,
                40.6380707038134
               ],
               [
                -74.1176608306128,
                40.6381288752105
               ],
               [
                -74.1176898657114,
                40.6389605618521
               ],
               [
                -74.1176909470834,
                40.6390542354971
               ],
               [
                -74.1176915679692,
                40.6391080039868
               ],
               [
                -74.1176954163291,
                40.639441384106
               ],
               [
                -74.1177067557684,
                40.6394898114467
               ],
               [
                -74.1177388350227,
                40.6396268043628
               ],
               [
                -74.1177871185251,
                40.6398329946022
               ],
               [
                -74.1177929014576,
                40.6398576863272
               ],
               [
                -74.1178759401661,
                40.6401639750841
               ],
               [
                -74.1179535986468,
                40.6404382846398
               ],
               [
                -74.1179933179374,
                40.6405785790435
               ],
               [
                -74.11806858402,
                40.641306157506
               ],
               [
                -74.119225797988,
                40.6411861183665
               ],
               [
                -74.1196961157229,
                40.6411373295127
               ],
               [
                -74.1199494658524,
                40.6411166777604
               ],
               [
                -74.1201044423802,
                40.6410966559431
               ],
               [
                -74.1202013887921,
                40.6410841301792
               ],
               [
                -74.1204504388312,
                40.6410398080616
               ],
               [
                -74.1206952130434,
                40.6409839533373
               ],
               [
                -74.1209343513239,
                40.6409169465823
               ],
               [
                -74.1207146564895,
                40.6410540212577
               ],
               [
                -74.1206478263856,
                40.6410523335801
               ],
               [
                -74.1205757714116,
                40.6410645670694
               ],
               [
                -74.1205295991132,
                40.6410710208692
               ],
               [
                -74.1201693177675,
                40.641147234279
               ],
               [
                -74.1199362817426,
                40.6412058429359
               ],
               [
                -74.1199725925818,
                40.641323052687
               ],
               [
                -74.1196086477351,
                40.6413885474746
               ],
               [
                -74.1196271364325,
                40.6414508666978
               ],
               [
                -74.1199584791779,
                40.6422176919821
               ],
               [
                -74.1198559200486,
                40.642243852748
               ],
               [
                -74.1195313412583,
                40.6414781529942
               ],
               [
                -74.1194670939729,
                40.6414871123881
               ],
               [
                -74.1194513627303,
                40.641442887113
               ],
               [
                -74.119427793799,
                40.6414317631632
               ],
               [
                -74.1193245064261,
                40.6414474367658
               ],
               [
                -74.1190986849413,
                40.6414817051017
               ],
               [
                -74.1194823526528,
                40.6423633405838
               ],
               [
                -74.1194017762325,
                40.6423876167277
               ],
               [
                -74.1190049624388,
                40.6414728536711
               ],
               [
                -74.1186178325235,
                40.6415386034466
               ],
               [
                -74.1186063422492,
                40.6415714896588
               ],
               [
                -74.1186898216572,
                40.641805881658
               ],
               [
                -74.1186531961719,
                40.6418170849943
               ],
               [
                -74.1188765393734,
                40.6423956045873
               ],
               [
                -74.1189009639721,
                40.6423918574893
               ],
               [
                -74.1189622541581,
                40.6425127545533
               ],
               [
                -74.1188377263887,
                40.6425501026724
               ],
               [
                -74.1186462769447,
                40.642047847512
               ],
               [
                -74.1185851266655,
                40.6420051098051
               ],
               [
                -74.1184226562395,
                40.6415842880418
               ],
               [
                -74.1184033306084,
                40.641538039257
               ],
               [
                -74.1181568454135,
                40.6416019225856
               ],
               [
                -74.1182097960854,
                40.6417584738851
               ],
               [
                -74.118009150475,
                40.6418137359192
               ],
               [
                -74.1179187669701,
                40.641834115537
               ],
               [
                -74.1177979126975,
                40.6417916394343
               ],
               [
                -74.1177583861294,
                40.6416923976604
               ],
               [
                -74.1177502359359,
                40.6416694985951
               ],
               [
                -74.1176999833632,
                40.6415513721849
               ],
               [
                -74.1174992805505,
                40.6415914902559
               ],
               [
                -74.1171224854813,
                40.6416760957171
               ],
               [
                -74.1172255623435,
                40.641852331282
               ],
               [
                -74.1171409212673,
                40.6418839609256
               ],
               [
                -74.1167233559441,
                40.6420399943657
               ],
               [
                -74.1167385140329,
                40.6420677239782
               ],
               [
                -74.1168854399975,
                40.6423753145873
               ],
               [
                -74.117034961168,
                40.6426580246138
               ],
               [
                -74.1172261811776,
                40.6430355985585
               ],
               [
                -74.1171504847345,
                40.643058007674
               ],
               [
                -74.1170572872387,
                40.6428515387815
               ],
               [
                -74.1169592336499,
                40.6426618235058
               ],
               [
                -74.1168440614968,
                40.6424628204728
               ],
               [
                -74.1167411523882,
                40.6422898586957
               ],
               [
                -74.116667556494,
                40.6421150048138
               ],
               [
                -74.1166113995477,
                40.6421336710053
               ],
               [
                -74.1166012387996,
                40.6421182211934
               ],
               [
                -74.1163014806797,
                40.6422109036203
               ],
               [
                -74.1163331487823,
                40.6422791057342
               ],
               [
                -74.1163062937659,
                40.6422884370638
               ],
               [
                -74.1167549081997,
                40.6431700653572
               ],
               [
                -74.116671893878,
                40.643198063905
               ],
               [
                -74.1162477760941,
                40.6423554903649
               ],
               [
                -74.116220917796,
                40.6423629621055
               ],
               [
                -74.1161587074257,
                40.6422531409003
               ],
               [
                -74.1161435660177,
                40.6422246925809
               ],
               [
                -74.1159984120471,
                40.6422705323422
               ],
               [
                -74.115720649966,
                40.6423600581553
               ],
               [
                -74.1156497140954,
                40.6423829216594
               ],
               [
                -74.115352300892,
                40.642478778982
               ],
               [
                -74.1151186263358,
                40.6427932313167
               ],
               [
                -74.1148088291841,
                40.6429852066326
               ],
               [
                -74.1147822435245,
                40.6429658548998
               ],
               [
                -74.1142968659868,
                40.6432873869405
               ],
               [
                -74.1137981397812,
                40.643617755214
               ],
               [
                -74.1140420101034,
                40.6440507416512
               ],
               [
                -74.1139524197522,
                40.6441448311441
               ],
               [
                -74.1128895434261,
                40.6445406840962
               ],
               [
                -74.1128525095581,
                40.6444817508588
               ],
               [
                -74.1138585716414,
                40.6440842507292
               ],
               [
                -74.1138722625832,
                40.6440528306704
               ],
               [
                -74.1136551888441,
                40.6436957950902
               ],
               [
                -74.1134355162034,
                40.6438294905309
               ],
               [
                -74.1133317106758,
                40.6437317361732
               ],
               [
                -74.1123051871542,
                40.6443270398924
               ],
               [
                -74.1118094691919,
                40.6446189146709
               ],
               [
                -74.1119048156557,
                40.6447142661336
               ],
               [
                -74.1111627726011,
                40.6451046628778
               ],
               [
                -74.1111178144918,
                40.645055141766
               ],
               [
                -74.111767944685,
                40.644714399241
               ],
               [
                -74.1117267776535,
                40.6446676014517
               ],
               [
                -74.1116778292726,
                40.6446964223792
               ],
               [
                -74.1114971895488,
                40.6447864037153
               ],
               [
                -74.1109242963397,
                40.6450898427786
               ],
               [
                -74.1097408032107,
                40.6454719679745
               ],
               [
                -74.1095395635004,
                40.6455040724227
               ],
               [
                -74.1088663764154,
                40.6455873685
               ],
               [
                -74.1086970150402,
                40.6455829630732
               ],
               [
                -74.1082376821135,
                40.6455710132794
               ],
               [
                -74.1077982185874,
                40.6455702238694
               ],
               [
                -74.1068049035659,
                40.645568435626
               ],
               [
                -74.1047236915607,
                40.6455718967893
               ]
              ]
             ],
             "type": "Polygon"
            },
            "id": "242",
            "properties": {},
            "type": "Feature"
           },
           {
            "bbox": [
             -74.124900521376,
             40.5589616685021,
             -74.0760174332016,
             40.58594803923
            ],
            "geometry": {
             "coordinates": [
              [
               [
                -74.0760174332016,
                40.5782531406326
               ],
               [
                -74.0761115430008,
                40.5781820890632
               ],
               [
                -74.0762064557158,
                40.5781348413523
               ],
               [
                -74.0762482256749,
                40.5781126436203
               ],
               [
                -74.0762618329263,
                40.5780932363866
               ],
               [
                -74.0762908872102,
                40.5780738197947
               ],
               [
                -74.0763399174046,
                40.5780446894714
               ],
               [
                -74.0763680669838,
                40.5780294293823
               ],
               [
                -74.0764007473909,
                40.5780030817152
               ],
               [
                -74.076409809877,
                40.5779836783866
               ],
               [
                -74.0763999120403,
                40.5779780017583
               ],
               [
                -74.0763061668506,
                40.5779283244839
               ],
               [
                -74.0762916150127,
                40.5779158645834
               ],
               [
                -74.0762988729282,
                40.5779068527156
               ],
               [
                -74.0763161363895,
                40.5779068412486
               ],
               [
                -74.0764289435218,
                40.5779583474078
               ],
               [
                -74.0764563728637,
                40.5779711733396
               ],
               [
                -74.0764942941566,
                40.577969073287
               ],
               [
                -74.0765178926229,
                40.5779482752631
               ],
               [
                -74.0765405752901,
                40.5779198558036
               ],
               [
                -74.0765559889406,
                40.5778907477798
               ],
               [
                -74.076585025981,
                40.5778574747513
               ],
               [
                -74.0766232982229,
                40.577826762952
               ],
               [
                -74.0767242019885,
                40.5777387728792
               ],
               [
                -74.0768837273555,
                40.5776450170631
               ],
               [
                -74.0769169917884,
                40.5775877277288
               ],
               [
                -74.0767389387791,
                40.5773807369264
               ],
               [
                -74.0767498369922,
                40.5773751869163
               ],
               [
                -74.0768993367547,
                40.577524535321
               ],
               [
                -74.0769402784774,
                40.5775425724337
               ],
               [
                -74.0773761887207,
                40.5772903857853
               ],
               [
                -74.0783031551089,
                40.5764729457075
               ],
               [
                -74.0787755924364,
                40.5760190490707
               ],
               [
                -74.0792646767214,
                40.5756795191514
               ],
               [
                -74.0786808029191,
                40.5750900524112
               ],
               [
                -74.0787533170424,
                40.5750503526097
               ],
               [
                -74.0793378685519,
                40.5756354311584
               ],
               [
                -74.0801801383448,
                40.5751886452857
               ],
               [
                -74.0805043552561,
                40.5749886857059
               ],
               [
                -74.080908297109,
                40.5746980312442
               ],
               [
                -74.0813391719694,
                40.5743282154456
               ],
               [
                -74.0817387176029,
                40.5739468053397
               ],
               [
                -74.0823082917133,
                40.573430729176
               ],
               [
                -74.0825933167977,
                40.5731577420362
               ],
               [
                -74.0830076721791,
                40.5727937960106
               ],
               [
                -74.0836006250237,
                40.5723797016662
               ],
               [
                -74.0846922255573,
                40.5714861402348
               ],
               [
                -74.0859779402009,
                40.5722451969027
               ],
               [
                -74.0876593809823,
                40.5730208911429
               ],
               [
                -74.0876988427092,
                40.5730701107451
               ],
               [
                -74.0877831762721,
                40.5730274001598
               ],
               [
                -74.0879208574448,
                40.5729576716609
               ],
               [
                -74.0881350187525,
                40.5728359465527
               ],
               [
                -74.088340345881,
                40.5727054459154
               ],
               [
                -74.0885359420172,
                40.5725667324151
               ],
               [
                -74.0887209695389,
                40.5724204605295
               ],
               [
                -74.0887677325344,
                40.5723827113063
               ],
               [
                -74.0888155438423,
                40.5723331724773
               ],
               [
                -74.0891800365551,
                40.5719555150663
               ],
               [
                -74.0894191129704,
                40.5717290091949
               ],
               [
                -74.0894618444019,
                40.5716885243269
               ],
               [
                -74.0894639931636,
                40.5716175711648
               ],
               [
                -74.0897076794751,
                40.5713712126151
               ],
               [
                -74.0902790697321,
                40.5707892417106
               ],
               [
                -74.0910723794141,
                40.5699374208417
               ],
               [
                -74.0920459827669,
                40.5689005640807
               ],
               [
                -74.0927522110585,
                40.5681042735598
               ],
               [
                -74.0927720492564,
                40.5679516355539
               ],
               [
                -74.0938744161311,
                40.5684171680774
               ],
               [
                -74.0946074358848,
                40.5687978492187
               ],
               [
                -74.0953477777859,
                40.5691896140738
               ],
               [
                -74.0960899875389,
                40.5695685310942
               ],
               [
                -74.0968231369206,
                40.5699560239537
               ],
               [
                -74.0975678192437,
                40.570350669615
               ],
               [
                -74.0983216189564,
                40.5707397563024
               ],
               [
                -74.0990510147554,
                40.5711190073345
               ],
               [
                -74.0997890355515,
                40.5715120702034
               ],
               [
                -74.100541983834,
                40.571890138622
               ],
               [
                -74.1012729781062,
                40.5722866912328
               ],
               [
                -74.1020307803482,
                40.5726699047124
               ],
               [
                -74.1027734421207,
                40.5730548476381
               ],
               [
                -74.1035239136266,
                40.5734365098123
               ],
               [
                -74.1042708410226,
                40.5738194940677
               ],
               [
                -74.1047112630189,
                40.574014165249
               ],
               [
                -74.1052443759031,
                40.5731022653828
               ],
               [
                -74.1056731774807,
                40.5725160583404
               ],
               [
                -74.1060449985765,
                40.5720724050284
               ],
               [
                -74.1063772428677,
                40.572232595787
               ],
               [
                -74.1064958890706,
                40.5721202686746
               ],
               [
                -74.1075077470337,
                40.571095984252
               ],
               [
                -74.1081386280115,
                40.5704991396722
               ],
               [
                -74.1087416516784,
                40.5699247194368
               ],
               [
                -74.1066058658935,
                40.5687864929239
               ],
               [
                -74.1054744159447,
                40.5682635674276
               ],
               [
                -74.1046707876234,
                40.5678853522913
               ],
               [
                -74.1038713265967,
                40.5675088738795
               ],
               [
                -74.1030718370878,
                40.5671310499424
               ],
               [
                -74.1020908528741,
                40.5666566284955
               ],
               [
                -74.1015510859606,
                40.5663940813837
               ],
               [
                -74.1007879795783,
                40.5660230434554
               ],
               [
                -74.1000242790148,
                40.5656517128019
               ],
               [
                -74.098953485864,
                40.5651322173566
               ],
               [
                -74.097631549713,
                40.5644903947026
               ],
               [
                -74.0957149851511,
                40.5635545008311
               ],
               [
                -74.0954398401216,
                40.5634201389719
               ],
               [
                -74.0940721785096,
                40.562739843728
               ],
               [
                -74.0951121014822,
                40.5631814976779
               ],
               [
                -74.0952429204623,
                40.5631566103984
               ],
               [
                -74.0954251861277,
                40.5631628591518
               ],
               [
                -74.0956845105469,
                40.5629276214147
               ],
               [
                -74.0956647885516,
                40.5628275416684
               ],
               [
                -74.0956734484211,
                40.5627838220188
               ],
               [
                -74.0957133885505,
                40.5627590936156
               ],
               [
                -74.0957628791559,
                40.5627403430328
               ],
               [
                -74.0958246863005,
                40.5627304973619
               ],
               [
                -74.0958883451141,
                40.5627331404086
               ],
               [
                -74.0961199394455,
                40.5625957985039
               ],
               [
                -74.0962934904477,
                40.5624290549017
               ],
               [
                -74.096615090725,
                40.562095369528
               ],
               [
                -74.0968718357063,
                40.5617261959939
               ],
               [
                -74.0969834629474,
                40.5614844401842
               ],
               [
                -74.0970263011653,
                40.5613446621484
               ],
               [
                -74.0970899114495,
                40.561262791085
               ],
               [
                -74.097156426514,
                40.5611965308521
               ],
               [
                -74.0972356758856,
                40.5611278103687
               ],
               [
                -74.0973087978579,
                40.5610240348337
               ],
               [
                -74.0974211642704,
                40.5608918710997
               ],
               [
                -74.0975997167585,
                40.5606211491891
               ],
               [
                -74.0978895489385,
                40.5601776499806
               ],
               [
                -74.097965398558,
                40.5600447729856
               ],
               [
                -74.0979801104763,
                40.5600012370982
               ],
               [
                -74.0979949556795,
                40.5599753288977
               ],
               [
                -74.0980457852103,
                40.5599213890164
               ],
               [
                -74.0981218103277,
                40.5599011757142
               ],
               [
                -74.0981991411244,
                40.5598446997514
               ],
               [
                -74.0982741256362,
                40.5595570318125
               ],
               [
                -74.0982917770923,
                40.5593408372478
               ],
               [
                -74.0982230174117,
                40.5592918047786
               ],
               [
                -74.0980883314073,
                40.5592109661672
               ],
               [
                -74.0980004912242,
                40.5591939293517
               ],
               [
                -74.0978337718928,
                40.5591286770659
               ],
               [
                -74.0977981221189,
                40.5590954653971
               ],
               [
                -74.0978227391317,
                40.5590616891011
               ],
               [
                -74.0978496282298,
                40.5590418924367
               ],
               [
                -74.0979331957611,
                40.5590496855054
               ],
               [
                -74.0986235166744,
                40.5593962044871
               ],
               [
                -74.0986601741209,
                40.5594157837659
               ],
               [
                -74.0987076394707,
                40.5594318245818
               ],
               [
                -74.0987656237807,
                40.5594317747329
               ],
               [
                -74.0988340972695,
                40.5593955317783
               ],
               [
                -74.0989272806244,
                40.5593582796238
               ],
               [
                -74.0990969467719,
                40.5592670135925
               ],
               [
                -74.0993291727667,
                40.5591056367692
               ],
               [
                -74.0992974061758,
                40.5590131954851
               ],
               [
                -74.0993817835849,
                40.558972416007
               ],
               [
                -74.099870717099,
                40.5591017244193
               ],
               [
                -74.1000969615538,
                40.5589616685021
               ],
               [
                -74.1017387963977,
                40.5599138013492
               ],
               [
                -74.101993173561,
                40.5600231157603
               ],
               [
                -74.1022445113953,
                40.5601364477605
               ],
               [
                -74.1024927000443,
                40.5602537470384
               ],
               [
                -74.1027376320089,
                40.5603749623801
               ],
               [
                -74.1029792021491,
                40.560500042571
               ],
               [
                -74.1032173029549,
                40.5606289327965
               ],
               [
                -74.1034518339968,
                40.5607615773358
               ],
               [
                -74.1036826924782,
                40.5608979186702
               ],
               [
                -74.1039097779568,
                40.5610378965769
               ],
               [
                -74.1041329923506,
                40.5611814517325
               ],
               [
                -74.1048477412688,
                40.5616034625918
               ],
               [
                -74.1055779266197,
                40.5619981967784
               ],
               [
                -74.1061738411013,
                40.5623045558038
               ],
               [
                -74.1069083960479,
                40.5626752694541
               ],
               [
                -74.1071054805562,
                40.5627781069385
               ],
               [
                -74.1078694309248,
                40.563153811958
               ],
               [
                -74.1086174133466,
                40.5635365871189
               ],
               [
                -74.1093636177244,
                40.5639171609129
               ],
               [
                -74.1101409445282,
                40.5643188902954
               ],
               [
                -74.1121138715328,
                40.5655137815737
               ],
               [
                -74.1137008033457,
                40.5664679679448
               ],
               [
                -74.1137630862528,
                40.5665054131835
               ],
               [
                -74.1143062473592,
                40.5659556250977
               ],
               [
                -74.1149004994022,
                40.5653752095488
               ],
               [
                -74.1154670028527,
                40.5648141818979
               ],
               [
                -74.1163648381311,
                40.5639238611891
               ],
               [
                -74.1164120021297,
                40.5639517396164
               ],
               [
                -74.1172143788302,
                40.5644259880984
               ],
               [
                -74.1180420287262,
                40.5649298656282
               ],
               [
                -74.118761863397,
                40.5653634482781
               ],
               [
                -74.119481572783,
                40.5657877763358
               ],
               [
                -74.1202415664607,
                40.5662356893206
               ],
               [
                -74.1216678406158,
                40.567096683389
               ],
               [
                -74.1230942878357,
                40.5679745912262
               ],
               [
                -74.123293539013,
                40.5680840877133
               ],
               [
                -74.1235981098141,
                40.5682482054482
               ],
               [
                -74.1239521150409,
                40.5684389435216
               ],
               [
                -74.124900521376,
                40.5689573665921
               ],
               [
                -74.1241870817471,
                40.5694327614286
               ],
               [
                -74.1235854909642,
                40.5698407532329
               ],
               [
                -74.1234530075962,
                40.5699287573013
               ],
               [
                -74.1233816580094,
                40.5699339093243
               ],
               [
                -74.1231753710629,
                40.5700837026558
               ],
               [
                -74.1231364053851,
                40.5701150151926
               ],
               [
                -74.1230999609446,
                40.5701758118328
               ],
               [
                -74.1227911498428,
                40.5704380692989
               ],
               [
                -74.1225979270832,
                40.5706046577331
               ],
               [
                -74.1221700424953,
                40.5709477186412
               ],
               [
                -74.1216271164601,
                40.5715096185936
               ],
               [
                -74.1214468328801,
                40.57178383931
               ],
               [
                -74.1213887907549,
                40.572100436337
               ],
               [
                -74.1213896307623,
                40.5722318932851
               ],
               [
                -74.1213590205861,
                40.5723808365495
               ],
               [
                -74.121358995966,
                40.5723809356334
               ],
               [
                -74.1213589843201,
                40.5723810256982
               ],
               [
                -74.121344024412,
                40.5725320956725
               ],
               [
                -74.1213449969363,
                40.5726838872449
               ],
               [
                -74.1213449970672,
                40.5726839592868
               ],
               [
                -74.1213619242003,
                40.5728349685558
               ],
               [
                -74.1213944692522,
                40.5729837739403
               ],
               [
                -74.1216058681234,
                40.573564145303
               ],
               [
                -74.1217022324118,
                40.5738402533476
               ],
               [
                -74.1218322748841,
                40.574225314394
               ],
               [
                -74.1218548136861,
                40.5746614068763
               ],
               [
                -74.1217277166587,
                40.5749152106385
               ],
               [
                -74.1215387674335,
                40.5751614774726
               ],
               [
                -74.121258615222,
                40.5752631195572
               ],
               [
                -74.121122279333,
                40.5753150715114
               ],
               [
                -74.1197871511838,
                40.5758237824126
               ],
               [
                -74.1191110252055,
                40.5761654774521
               ],
               [
                -74.1184920106224,
                40.5766350634357
               ],
               [
                -74.1180350612503,
                40.5771786343042
               ],
               [
                -74.1179264381534,
                40.5773169422561
               ],
               [
                -74.1178130604914,
                40.5774530144725
               ],
               [
                -74.1176950072069,
                40.5775867545021
               ],
               [
                -74.1175723607945,
                40.5777180694923
               ],
               [
                -74.1174941420552,
                40.5778100246941
               ],
               [
                -74.1174097735974,
                40.5778987631473
               ],
               [
                -74.1173194817519,
                40.5779840459682
               ],
               [
                -74.1172235117668,
                40.5780656432587
               ],
               [
                -74.1171221207222,
                40.5781433350144
               ],
               [
                -74.1170155810785,
                40.5782169138228
               ],
               [
                -74.1169299199924,
                40.5782506788798
               ],
               [
                -74.1168406034859,
                40.5782783978628
               ],
               [
                -74.1167483669826,
                40.5782998430838
               ],
               [
                -74.1166539637183,
                40.5783148399695
               ],
               [
                -74.1160227191431,
                40.5783700168082
               ],
               [
                -74.1159363766977,
                40.5783851985758
               ],
               [
                -74.1158521038648,
                40.5784060740125
               ],
               [
                -74.1157705463912,
                40.5784324839797
               ],
               [
                -74.1156923263322,
                40.5784642270395
               ],
               [
                -74.1156180420505,
                40.5785010585544
               ],
               [
                -74.1155482635067,
                40.5785426987957
               ],
               [
                -74.1154835228019,
                40.5785888275504
               ],
               [
                -74.1154243165552,
                40.5786390931233
               ],
               [
                -74.1148208908952,
                40.579185100782
               ],
               [
                -74.1142289425907,
                40.5797421342588
               ],
               [
                -74.1139765566637,
                40.5800214395898
               ],
               [
                -74.1136744744538,
                40.5803211634128
               ],
               [
                -74.113071018584,
                40.5807767500034
               ],
               [
                -74.1122114558433,
                40.5812744654291
               ],
               [
                -74.1112785405364,
                40.5817989559234
               ],
               [
                -74.1102886175544,
                40.5822069746525
               ],
               [
                -74.1092498285208,
                40.5826866401213
               ],
               [
                -74.1079099897602,
                40.5836938652574
               ],
               [
                -74.1072917837602,
                40.5842305255657
               ],
               [
                -74.1064961245923,
                40.5849035703603
               ],
               [
                -74.1058854045232,
                40.5854154354517
               ],
               [
                -74.1052592275867,
                40.5859296635946
               ],
               [
                -74.1027901006677,
                40.5842327149919
               ],
               [
                -74.1026346875422,
                40.5841151733957
               ],
               [
                -74.1024984314161,
                40.5840232605353
               ],
               [
                -74.1006145801904,
                40.5827194182761
               ],
               [
                -74.0984414788681,
                40.5812499337172
               ],
               [
                -74.0977203681416,
                40.5818211028058
               ],
               [
                -74.0971215549332,
                40.5822930892025
               ],
               [
                -74.0968287970363,
                40.5825252222725
               ],
               [
                -74.096170382248,
                40.5830520138776
               ],
               [
                -74.0954395134143,
                40.5836317875044
               ],
               [
                -74.0947118590031,
                40.5842108405753
               ],
               [
                -74.094025633489,
                40.5847546094797
               ],
               [
                -74.0934084627839,
                40.5852483399345
               ],
               [
                -74.0926174370924,
                40.58594803923
               ],
               [
                -74.0916491079402,
                40.5854519785192
               ],
               [
                -74.0908946511025,
                40.5850648841735
               ],
               [
                -74.0891229467207,
                40.5841507892854
               ],
               [
                -74.0885614466959,
                40.5847305496322
               ],
               [
                -74.0884974330867,
                40.5847966524084
               ],
               [
                -74.086542883152,
                40.5837417552043
               ],
               [
                -74.0854786846039,
                40.5831981210118
               ],
               [
                -74.0843610471679,
                40.5826271690754
               ],
               [
                -74.0822085607021,
                40.5815396613599
               ],
               [
                -74.0810718476075,
                40.5809523275981
               ],
               [
                -74.0799351663155,
                40.5803649816496
               ],
               [
                -74.0790046280575,
                40.57988713343
               ],
               [
                -74.0783295240161,
                40.5795404434938
               ],
               [
                -74.0778549689357,
                40.5792907975621
               ],
               [
                -74.0778038377618,
                40.5792584403326
               ],
               [
                -74.0777499926933,
                40.5792181152744
               ],
               [
                -74.0769200591838,
                40.5787672256659
               ],
               [
                -74.0768088538494,
                40.578702066067
               ],
               [
                -74.0760174332016,
                40.5782531406326
               ]
              ]
             ],
             "type": "Polygon"
            },
            "id": "248",
            "properties": {},
            "type": "Feature"
           }
          ],
          "type": "FeatureCollection"
         },
         "hovertemplate": "index=%{location}<extra></extra>",
         "locations": [
          124,
          171,
          239,
          242,
          248
         ],
         "name": "",
         "showlegend": true,
         "showscale": false,
         "subplot": "mapbox",
         "type": "choroplethmapbox",
         "z": [
          1,
          1,
          1,
          1,
          1
         ]
        }
       ],
       "layout": {
        "legend": {
         "tracegroupgap": 0
        },
        "mapbox": {
         "center": {
          "lat": 40.7128,
          "lon": -74.006
         },
         "domain": {
          "x": [
           0,
           1
          ],
          "y": [
           0,
           1
          ]
         },
         "style": "carto-positron",
         "zoom": 10
        },
        "margin": {
         "b": 0,
         "l": 0,
         "r": 0,
         "t": 0
        },
        "template": {
         "data": {
          "bar": [
           {
            "error_x": {
             "color": "#2a3f5f"
            },
            "error_y": {
             "color": "#2a3f5f"
            },
            "marker": {
             "line": {
              "color": "#E5ECF6",
              "width": 0.5
             },
             "pattern": {
              "fillmode": "overlay",
              "size": 10,
              "solidity": 0.2
             }
            },
            "type": "bar"
           }
          ],
          "barpolar": [
           {
            "marker": {
             "line": {
              "color": "#E5ECF6",
              "width": 0.5
             },
             "pattern": {
              "fillmode": "overlay",
              "size": 10,
              "solidity": 0.2
             }
            },
            "type": "barpolar"
           }
          ],
          "carpet": [
           {
            "aaxis": {
             "endlinecolor": "#2a3f5f",
             "gridcolor": "white",
             "linecolor": "white",
             "minorgridcolor": "white",
             "startlinecolor": "#2a3f5f"
            },
            "baxis": {
             "endlinecolor": "#2a3f5f",
             "gridcolor": "white",
             "linecolor": "white",
             "minorgridcolor": "white",
             "startlinecolor": "#2a3f5f"
            },
            "type": "carpet"
           }
          ],
          "choropleth": [
           {
            "colorbar": {
             "outlinewidth": 0,
             "ticks": ""
            },
            "type": "choropleth"
           }
          ],
          "contour": [
           {
            "colorbar": {
             "outlinewidth": 0,
             "ticks": ""
            },
            "colorscale": [
             [
              0,
              "#0d0887"
             ],
             [
              0.1111111111111111,
              "#46039f"
             ],
             [
              0.2222222222222222,
              "#7201a8"
             ],
             [
              0.3333333333333333,
              "#9c179e"
             ],
             [
              0.4444444444444444,
              "#bd3786"
             ],
             [
              0.5555555555555556,
              "#d8576b"
             ],
             [
              0.6666666666666666,
              "#ed7953"
             ],
             [
              0.7777777777777778,
              "#fb9f3a"
             ],
             [
              0.8888888888888888,
              "#fdca26"
             ],
             [
              1,
              "#f0f921"
             ]
            ],
            "type": "contour"
           }
          ],
          "contourcarpet": [
           {
            "colorbar": {
             "outlinewidth": 0,
             "ticks": ""
            },
            "type": "contourcarpet"
           }
          ],
          "heatmap": [
           {
            "colorbar": {
             "outlinewidth": 0,
             "ticks": ""
            },
            "colorscale": [
             [
              0,
              "#0d0887"
             ],
             [
              0.1111111111111111,
              "#46039f"
             ],
             [
              0.2222222222222222,
              "#7201a8"
             ],
             [
              0.3333333333333333,
              "#9c179e"
             ],
             [
              0.4444444444444444,
              "#bd3786"
             ],
             [
              0.5555555555555556,
              "#d8576b"
             ],
             [
              0.6666666666666666,
              "#ed7953"
             ],
             [
              0.7777777777777778,
              "#fb9f3a"
             ],
             [
              0.8888888888888888,
              "#fdca26"
             ],
             [
              1,
              "#f0f921"
             ]
            ],
            "type": "heatmap"
           }
          ],
          "heatmapgl": [
           {
            "colorbar": {
             "outlinewidth": 0,
             "ticks": ""
            },
            "colorscale": [
             [
              0,
              "#0d0887"
             ],
             [
              0.1111111111111111,
              "#46039f"
             ],
             [
              0.2222222222222222,
              "#7201a8"
             ],
             [
              0.3333333333333333,
              "#9c179e"
             ],
             [
              0.4444444444444444,
              "#bd3786"
             ],
             [
              0.5555555555555556,
              "#d8576b"
             ],
             [
              0.6666666666666666,
              "#ed7953"
             ],
             [
              0.7777777777777778,
              "#fb9f3a"
             ],
             [
              0.8888888888888888,
              "#fdca26"
             ],
             [
              1,
              "#f0f921"
             ]
            ],
            "type": "heatmapgl"
           }
          ],
          "histogram": [
           {
            "marker": {
             "pattern": {
              "fillmode": "overlay",
              "size": 10,
              "solidity": 0.2
             }
            },
            "type": "histogram"
           }
          ],
          "histogram2d": [
           {
            "colorbar": {
             "outlinewidth": 0,
             "ticks": ""
            },
            "colorscale": [
             [
              0,
              "#0d0887"
             ],
             [
              0.1111111111111111,
              "#46039f"
             ],
             [
              0.2222222222222222,
              "#7201a8"
             ],
             [
              0.3333333333333333,
              "#9c179e"
             ],
             [
              0.4444444444444444,
              "#bd3786"
             ],
             [
              0.5555555555555556,
              "#d8576b"
             ],
             [
              0.6666666666666666,
              "#ed7953"
             ],
             [
              0.7777777777777778,
              "#fb9f3a"
             ],
             [
              0.8888888888888888,
              "#fdca26"
             ],
             [
              1,
              "#f0f921"
             ]
            ],
            "type": "histogram2d"
           }
          ],
          "histogram2dcontour": [
           {
            "colorbar": {
             "outlinewidth": 0,
             "ticks": ""
            },
            "colorscale": [
             [
              0,
              "#0d0887"
             ],
             [
              0.1111111111111111,
              "#46039f"
             ],
             [
              0.2222222222222222,
              "#7201a8"
             ],
             [
              0.3333333333333333,
              "#9c179e"
             ],
             [
              0.4444444444444444,
              "#bd3786"
             ],
             [
              0.5555555555555556,
              "#d8576b"
             ],
             [
              0.6666666666666666,
              "#ed7953"
             ],
             [
              0.7777777777777778,
              "#fb9f3a"
             ],
             [
              0.8888888888888888,
              "#fdca26"
             ],
             [
              1,
              "#f0f921"
             ]
            ],
            "type": "histogram2dcontour"
           }
          ],
          "mesh3d": [
           {
            "colorbar": {
             "outlinewidth": 0,
             "ticks": ""
            },
            "type": "mesh3d"
           }
          ],
          "parcoords": [
           {
            "line": {
             "colorbar": {
              "outlinewidth": 0,
              "ticks": ""
             }
            },
            "type": "parcoords"
           }
          ],
          "pie": [
           {
            "automargin": true,
            "type": "pie"
           }
          ],
          "scatter": [
           {
            "fillpattern": {
             "fillmode": "overlay",
             "size": 10,
             "solidity": 0.2
            },
            "type": "scatter"
           }
          ],
          "scatter3d": [
           {
            "line": {
             "colorbar": {
              "outlinewidth": 0,
              "ticks": ""
             }
            },
            "marker": {
             "colorbar": {
              "outlinewidth": 0,
              "ticks": ""
             }
            },
            "type": "scatter3d"
           }
          ],
          "scattercarpet": [
           {
            "marker": {
             "colorbar": {
              "outlinewidth": 0,
              "ticks": ""
             }
            },
            "type": "scattercarpet"
           }
          ],
          "scattergeo": [
           {
            "marker": {
             "colorbar": {
              "outlinewidth": 0,
              "ticks": ""
             }
            },
            "type": "scattergeo"
           }
          ],
          "scattergl": [
           {
            "marker": {
             "colorbar": {
              "outlinewidth": 0,
              "ticks": ""
             }
            },
            "type": "scattergl"
           }
          ],
          "scattermapbox": [
           {
            "marker": {
             "colorbar": {
              "outlinewidth": 0,
              "ticks": ""
             }
            },
            "type": "scattermapbox"
           }
          ],
          "scatterpolar": [
           {
            "marker": {
             "colorbar": {
              "outlinewidth": 0,
              "ticks": ""
             }
            },
            "type": "scatterpolar"
           }
          ],
          "scatterpolargl": [
           {
            "marker": {
             "colorbar": {
              "outlinewidth": 0,
              "ticks": ""
             }
            },
            "type": "scatterpolargl"
           }
          ],
          "scatterternary": [
           {
            "marker": {
             "colorbar": {
              "outlinewidth": 0,
              "ticks": ""
             }
            },
            "type": "scatterternary"
           }
          ],
          "surface": [
           {
            "colorbar": {
             "outlinewidth": 0,
             "ticks": ""
            },
            "colorscale": [
             [
              0,
              "#0d0887"
             ],
             [
              0.1111111111111111,
              "#46039f"
             ],
             [
              0.2222222222222222,
              "#7201a8"
             ],
             [
              0.3333333333333333,
              "#9c179e"
             ],
             [
              0.4444444444444444,
              "#bd3786"
             ],
             [
              0.5555555555555556,
              "#d8576b"
             ],
             [
              0.6666666666666666,
              "#ed7953"
             ],
             [
              0.7777777777777778,
              "#fb9f3a"
             ],
             [
              0.8888888888888888,
              "#fdca26"
             ],
             [
              1,
              "#f0f921"
             ]
            ],
            "type": "surface"
           }
          ],
          "table": [
           {
            "cells": {
             "fill": {
              "color": "#EBF0F8"
             },
             "line": {
              "color": "white"
             }
            },
            "header": {
             "fill": {
              "color": "#C8D4E3"
             },
             "line": {
              "color": "white"
             }
            },
            "type": "table"
           }
          ]
         },
         "layout": {
          "annotationdefaults": {
           "arrowcolor": "#2a3f5f",
           "arrowhead": 0,
           "arrowwidth": 1
          },
          "autotypenumbers": "strict",
          "coloraxis": {
           "colorbar": {
            "outlinewidth": 0,
            "ticks": ""
           }
          },
          "colorscale": {
           "diverging": [
            [
             0,
             "#8e0152"
            ],
            [
             0.1,
             "#c51b7d"
            ],
            [
             0.2,
             "#de77ae"
            ],
            [
             0.3,
             "#f1b6da"
            ],
            [
             0.4,
             "#fde0ef"
            ],
            [
             0.5,
             "#f7f7f7"
            ],
            [
             0.6,
             "#e6f5d0"
            ],
            [
             0.7,
             "#b8e186"
            ],
            [
             0.8,
             "#7fbc41"
            ],
            [
             0.9,
             "#4d9221"
            ],
            [
             1,
             "#276419"
            ]
           ],
           "sequential": [
            [
             0,
             "#0d0887"
            ],
            [
             0.1111111111111111,
             "#46039f"
            ],
            [
             0.2222222222222222,
             "#7201a8"
            ],
            [
             0.3333333333333333,
             "#9c179e"
            ],
            [
             0.4444444444444444,
             "#bd3786"
            ],
            [
             0.5555555555555556,
             "#d8576b"
            ],
            [
             0.6666666666666666,
             "#ed7953"
            ],
            [
             0.7777777777777778,
             "#fb9f3a"
            ],
            [
             0.8888888888888888,
             "#fdca26"
            ],
            [
             1,
             "#f0f921"
            ]
           ],
           "sequentialminus": [
            [
             0,
             "#0d0887"
            ],
            [
             0.1111111111111111,
             "#46039f"
            ],
            [
             0.2222222222222222,
             "#7201a8"
            ],
            [
             0.3333333333333333,
             "#9c179e"
            ],
            [
             0.4444444444444444,
             "#bd3786"
            ],
            [
             0.5555555555555556,
             "#d8576b"
            ],
            [
             0.6666666666666666,
             "#ed7953"
            ],
            [
             0.7777777777777778,
             "#fb9f3a"
            ],
            [
             0.8888888888888888,
             "#fdca26"
            ],
            [
             1,
             "#f0f921"
            ]
           ]
          },
          "colorway": [
           "#636efa",
           "#EF553B",
           "#00cc96",
           "#ab63fa",
           "#FFA15A",
           "#19d3f3",
           "#FF6692",
           "#B6E880",
           "#FF97FF",
           "#FECB52"
          ],
          "font": {
           "color": "#2a3f5f"
          },
          "geo": {
           "bgcolor": "white",
           "lakecolor": "white",
           "landcolor": "#E5ECF6",
           "showlakes": true,
           "showland": true,
           "subunitcolor": "white"
          },
          "hoverlabel": {
           "align": "left"
          },
          "hovermode": "closest",
          "mapbox": {
           "style": "light"
          },
          "paper_bgcolor": "white",
          "plot_bgcolor": "#E5ECF6",
          "polar": {
           "angularaxis": {
            "gridcolor": "white",
            "linecolor": "white",
            "ticks": ""
           },
           "bgcolor": "#E5ECF6",
           "radialaxis": {
            "gridcolor": "white",
            "linecolor": "white",
            "ticks": ""
           }
          },
          "scene": {
           "xaxis": {
            "backgroundcolor": "#E5ECF6",
            "gridcolor": "white",
            "gridwidth": 2,
            "linecolor": "white",
            "showbackground": true,
            "ticks": "",
            "zerolinecolor": "white"
           },
           "yaxis": {
            "backgroundcolor": "#E5ECF6",
            "gridcolor": "white",
            "gridwidth": 2,
            "linecolor": "white",
            "showbackground": true,
            "ticks": "",
            "zerolinecolor": "white"
           },
           "zaxis": {
            "backgroundcolor": "#E5ECF6",
            "gridcolor": "white",
            "gridwidth": 2,
            "linecolor": "white",
            "showbackground": true,
            "ticks": "",
            "zerolinecolor": "white"
           }
          },
          "shapedefaults": {
           "line": {
            "color": "#2a3f5f"
           }
          },
          "ternary": {
           "aaxis": {
            "gridcolor": "white",
            "linecolor": "white",
            "ticks": ""
           },
           "baxis": {
            "gridcolor": "white",
            "linecolor": "white",
            "ticks": ""
           },
           "bgcolor": "#E5ECF6",
           "caxis": {
            "gridcolor": "white",
            "linecolor": "white",
            "ticks": ""
           }
          },
          "title": {
           "x": 0.05
          },
          "xaxis": {
           "automargin": true,
           "gridcolor": "white",
           "linecolor": "white",
           "ticks": "",
           "title": {
            "standoff": 15
           },
           "zerolinecolor": "white",
           "zerolinewidth": 2
          },
          "yaxis": {
           "automargin": true,
           "gridcolor": "white",
           "linecolor": "white",
           "ticks": "",
           "title": {
            "standoff": 15
           },
           "zerolinecolor": "white",
           "zerolinewidth": 2
          }
         }
        }
       }
      },
      "text/html": [
       "<div>                            <div id=\"7e41fec5-4e0f-4d4b-828b-b7727e156ecd\" class=\"plotly-graph-div\" style=\"height:525px; width:100%;\"></div>            <script type=\"text/javascript\">                require([\"plotly\"], function(Plotly) {                    window.PLOTLYENV=window.PLOTLYENV || {};                                    if (document.getElementById(\"7e41fec5-4e0f-4d4b-828b-b7727e156ecd\")) {                    Plotly.newPlot(                        \"7e41fec5-4e0f-4d4b-828b-b7727e156ecd\",                        [{\"colorscale\":[[0.0,\"#636efa\"],[1.0,\"#636efa\"]],\"geojson\":{\"type\":\"FeatureCollection\",\"features\":[{\"id\":\"124\",\"type\":\"Feature\",\"properties\":{},\"geometry\":{\"type\":\"Polygon\",\"coordinates\":[[[-73.9844979121924,40.7095179204499],[-73.9865517954703,40.7093202005391],[-73.9881663598449,40.7091650378192],[-73.988174852259,40.7091557746118],[-73.9883920828812,40.7091352054616],[-73.9884479770407,40.7091420768453],[-73.9884811153665,40.7091641031074],[-73.9884987144244,40.7091845615981],[-73.9886380234933,40.7099203179605],[-73.9886467777147,40.7099251903434],[-73.9886689485946,40.7099282912754],[-73.9886975455081,40.7099367062899],[-73.9887191539153,40.7099553464645],[-73.9887382598857,40.7099789982973],[-73.9887986206875,40.7099748639215],[-73.98889990267,40.7099629922084],[-73.9893590999718,40.7099092431246],[-73.9894621132315,40.7098975434621],[-73.98957593916,40.7098823380104],[-73.9897465946833,40.7098570180486],[-73.9901596969885,40.7097986290307],[-73.9905156471322,40.7097421404622],[-73.9907905736361,40.7096977629138],[-73.9910692781679,40.7096654861516],[-73.9913525359969,40.7096285889952],[-73.9917040466607,40.7095735187222],[-73.9917692395571,40.7095633117881],[-73.9919068874625,40.7095336528361],[-73.9920407135238,40.7095251759128],[-73.9920927602162,40.7095164791477],[-73.9921501335758,40.7095068653441],[-73.9923626053393,40.7094726250373],[-73.9928499115777,40.7093901338313],[-73.9937415729908,40.7092543765701],[-73.9940096460943,40.7092457360427],[-73.9941420764995,40.7092415235181],[-73.994379680009,40.7092008953008],[-73.9945804442674,40.7091392289928],[-73.9951772185138,40.7090425493506],[-73.9958053015468,40.708954269911],[-73.9960204290358,40.7089244798376],[-73.9966654552452,40.7088351604677],[-73.9972843174275,40.7087398757526],[-73.9980849575846,40.7085178712052],[-73.9982874689805,40.708438187283],[-73.9985290316991,40.7083397836959],[-73.9985625920619,40.7083235390168],[-73.9987234254532,40.7082457086585],[-73.9987554116206,40.7082319067857],[-73.9988099086944,40.7082083907446],[-73.9988230301405,40.7081837374242],[-73.9988827545862,40.7081448896568],[-73.9989848556099,40.7081009090409],[-73.9990542133816,40.7080408015769],[-73.9991357952086,40.7079906526438],[-73.9992245714498,40.7080609066013],[-73.9992250793243,40.7080613083347],[-73.9992977604811,40.7081188237005],[-73.9993359468877,40.7081520169078],[-73.9993782641511,40.7081881810502],[-73.999496563818,40.7082873280141],[-73.9997604418956,40.7084920777919],[-73.9998708730376,40.7085777705854],[-73.9999597915107,40.70864780384],[-74.0000662829339,40.7087316866478],[-74.0001369181538,40.7087873283596],[-74.0002075664805,40.7088429712003],[-74.000475938993,40.70905975513],[-74.0012255672814,40.7096652751666],[-74.0014207940246,40.7098230517488],[-74.0012840328143,40.7100023094897],[-74.0012362131045,40.7100635890661],[-74.0011379143676,40.7101842207855],[-74.0010047018511,40.7103622858608],[-74.0009077831103,40.7104860874811],[-74.0007543405801,40.7106820883656],[-74.0006651159268,40.7107960590713],[-74.0005113076137,40.7109925266913],[-74.0006216973028,40.7110902408116],[-74.0007155430649,40.7112003897905],[-74.0007894603537,40.7113203646253],[-74.0008410711241,40.7114469131695],[-74.0008692620949,40.711576415202],[-74.0008742105336,40.7117052246805],[-74.0008921117561,40.7129912291818],[-74.0008925586787,40.7130233561644],[-74.0008978500824,40.7130556707393],[-74.0009331895778,40.7132715097151],[-74.0012584670562,40.7135050353717],[-74.0015678032769,40.7136913207291],[-74.0009698514504,40.7139138524063],[-74.0007479704245,40.714518610659],[-74.0004560774881,40.7143733045013],[-74.0005287963275,40.7151783164229],[-74.0007909988535,40.7152992254735],[-74.0005798391024,40.715579159556],[-74.0001396559167,40.7162079878353],[-73.9999324245726,40.7165521716182],[-73.9994498291498,40.717338054617],[-73.9993138636572,40.717558499344],[-73.9985907020773,40.7171077690408],[-73.9977643060332,40.7168221861008],[-73.9969851986644,40.7165488006225],[-73.9960601723173,40.7162398981359],[-73.9958105689716,40.71665291722],[-73.9954302041833,40.7172875006976],[-73.9948092348209,40.7184656847553],[-73.9938293015812,40.7181527354279],[-73.9930957664037,40.7179307365917],[-73.9922220881238,40.7176667046016],[-73.99142417105,40.7174258342416],[-73.9913055977911,40.7173899397499],[-73.9911776760679,40.7173512179064],[-73.9907043448829,40.7172088637256],[-73.98995163519,40.7169802333363],[-73.9891560815202,40.7167169045297],[-73.9897556258862,40.715560605851],[-73.9902038033167,40.714672687711],[-73.9902230000742,40.7145870137119],[-73.9902289538663,40.714499926836],[-73.9902215702532,40.7144131971672],[-73.9893380083601,40.714141633261],[-73.9887033563799,40.714193798442],[-73.9884061331122,40.7142183092543],[-73.9876683454419,40.714279079571],[-73.9871677231403,40.7143203144013],[-73.9858558186377,40.7144283931917],[-73.9856727200998,40.7144435551982],[-73.9855864947877,40.7144506621549],[-73.9853454861699,40.714469835684],[-73.9852447396617,40.7138539367258],[-73.9851155075768,40.713795008729],[-73.9850591437153,40.7130859749659],[-73.9850327259178,40.7129081411287],[-73.9850260635112,40.7128632880923],[-73.9849518618185,40.7123637871131],[-73.984854250111,40.711706399816],[-73.9847855022564,40.7112370461948],[-73.9847042284599,40.7107102726212],[-73.9846850562258,40.7106133387567],[-73.9846760358696,40.7105718340709],[-73.9846663559954,40.7105224297259],[-73.9846566867045,40.710473018345],[-73.9844979121924,40.7095179204499]]]},\"bbox\":[-74.0015678032769,40.7079906526438,-73.9844979121924,40.7184656847553]},{\"id\":\"171\",\"type\":\"Feature\",\"properties\":{},\"geometry\":{\"type\":\"Polygon\",\"coordinates\":[[[-73.8609383205138,40.7637368868738],[-73.8606383605883,40.7633443371659],[-73.8598187687261,40.7622717231465],[-73.8595886939924,40.7620085682422],[-73.8595639280075,40.7619802378619],[-73.8596680671528,40.7619101847447],[-73.8597576934533,40.7618440706895],[-73.859125163409,40.7612837696942],[-73.8589676856602,40.7611670668742],[-73.8588052816337,40.7610543353332],[-73.858638125165,40.7609456941306],[-73.8584663936424,40.7608412605298],[-73.8582902715709,40.7607411445991],[-73.8581099446417,40.7606454537074],[-73.8579256056615,40.7605542889297],[-73.8577374521759,40.760467748646],[-73.8575456841087,40.7603859249366],[-73.8573505049447,40.7603089044843],[-73.8567073838963,40.7600521375221],[-73.8565603611361,40.7599898322491],[-73.8563835657338,40.7599149114073],[-73.8560412132773,40.7597340578136],[-73.8557713771746,40.7595466131501],[-73.8555345201083,40.7593508624169],[-73.8552528039913,40.7591558013541],[-73.8550684289518,40.7589515481615],[-73.8550106115878,40.7588874962435],[-73.8546413604111,40.7584744279645],[-73.8549743683048,40.7584273558653],[-73.8553558116167,40.7584027203091],[-73.8554050639265,40.7583485806658],[-73.8556096024086,40.758313681446],[-73.8569532710689,40.7581413979331],[-73.8577549155634,40.75803554549],[-73.8585627938781,40.7579207071704],[-73.8588907276085,40.7579077467116],[-73.8595147290097,40.7578868602917],[-73.8599288669042,40.7578723720542],[-73.8604630272706,40.7578520024811],[-73.8610002285974,40.7578332640171],[-73.8619075773191,40.7578031337923],[-73.8628084473852,40.7577672542826],[-73.863716404836,40.757733941656],[-73.8646209728528,40.7577019866604],[-73.865675776344,40.757637852753],[-73.8665713821731,40.7575437910964],[-73.8674647719543,40.7574498108801],[-73.8684851556669,40.7573432077132],[-73.8695045561668,40.7572362891248],[-73.8704151216615,40.7571406827757],[-73.87132536687,40.7570446105154],[-73.8722199719337,40.7569514943926],[-73.8731119558648,40.7568591518772],[-73.873658626319,40.7568117548411],[-73.8742094397277,40.7567398326479],[-73.8751401523076,40.7566420857614],[-73.8755122136301,40.7586879059852],[-73.8758079550407,40.760316106458],[-73.8760151283506,40.7614520022748],[-73.8764947905092,40.7615388228368],[-73.8769938346488,40.7616291461508],[-73.8779744111711,40.7618032021533],[-73.8784333618056,40.7618851101544],[-73.8785703154302,40.7619180599996],[-73.878955237947,40.7619922524832],[-73.879421717186,40.7619532733994],[-73.8798894751382,40.7619141838985],[-73.8803426689194,40.7618659030237],[-73.8808194960255,40.7618151035909],[-73.8817490691255,40.7617131886307],[-73.8820529255311,40.7616815231657],[-73.8823707117373,40.7616484041996],[-73.8826779434729,40.7616163794301],[-73.8831279580863,40.761569426116],[-73.8836084973436,40.761519275376],[-73.8845379003614,40.7614217943468],[-73.8854689597532,40.7613236870194],[-73.8863985362833,40.7612247233309],[-73.8867311396734,40.7630615314403],[-73.8867955294844,40.7634122064123],[-73.8870652957351,40.7648812408082],[-73.8870794643625,40.7649559876003],[-73.8870910545157,40.7650217259132],[-73.8871069092253,40.7650660381872],[-73.8875426323631,40.7663263957317],[-73.8875557914588,40.7663682199105],[-73.88757296174,40.7664193943402],[-73.8876748810109,40.7667476817867],[-73.8877080322426,40.7668468695716],[-73.8877312964183,40.7669227057306],[-73.8876474671215,40.7669412725666],[-73.8868686253358,40.7671507071501],[-73.8868026959478,40.7671697186856],[-73.8867123070771,40.767195786804],[-73.8862279934558,40.7673354542182],[-73.8857060521819,40.7674973526552],[-73.8852108948887,40.7676614996602],[-73.8849172774967,40.7677689080108],[-73.8846649103496,40.7678612257335],[-73.8843205181451,40.7679899326877],[-73.8836900389388,40.7682665173861],[-73.8832128391248,40.7684716837983],[-73.8831298878475,40.7685111660555],[-73.8823850763594,40.7688656769994],[-73.882036541917,40.7690466003459],[-73.8814799601758,40.7693450335626],[-73.8814324160873,40.7693717917633],[-73.8805757516551,40.7698539015679],[-73.8805290046095,40.7698796489543],[-73.8799077520697,40.7702218107114],[-73.879786265166,40.7702886338203],[-73.8795196428585,40.7704352852246],[-73.8791252889322,40.7706292091316],[-73.8790002645429,40.7706890262775],[-73.8787658080923,40.7708011969798],[-73.8786488328341,40.7708505745619],[-73.8780621076208,40.7710843663005],[-73.8775375342983,40.7712613921009],[-73.8769956737545,40.7714309318784],[-73.8761121452052,40.7716387753089],[-73.8760235661332,40.7716562038473],[-73.8755286652651,40.7717380889395],[-73.8752028591104,40.7717795730513],[-73.8744114142896,40.7718558782434],[-73.8740972563667,40.7718685440845],[-73.8738334195283,40.7718791822139],[-73.8729923998144,40.7718628137154],[-73.8725973199033,40.77183921659],[-73.8720612686508,40.7717756566813],[-73.871847871607,40.771750352204],[-73.8712871216006,40.7716524547084],[-73.8707053829174,40.7714996370904],[-73.870262835503,40.771365234663],[-73.8701126799591,40.7713066254681],[-73.8695706178698,40.7710950402893],[-73.8688320781558,40.7707414743487],[-73.8683884807755,40.7704853261062],[-73.8680042257924,40.7702634416975],[-73.867210727872,40.7697412548887],[-73.8668368224083,40.769475018722],[-73.8659848995502,40.7688683992703],[-73.8653847374121,40.7683846959071],[-73.86484136719,40.7679467566289],[-73.8647666549097,40.7678802090018],[-73.8646490353666,40.7677754403278],[-73.8642737205376,40.7674411303204],[-73.864042105745,40.7672158912967],[-73.8634385481846,40.7666289325334],[-73.8633236268342,40.7665123429488],[-73.8631247425045,40.766310565704],[-73.8629692670899,40.766150377345],[-73.8629327503069,40.766112754028],[-73.8617176437709,40.7646779876593],[-73.8616602467851,40.7646102124594],[-73.8609383205138,40.7637368868738]]]},\"bbox\":[-73.8877312964183,40.7566420857614,-73.8546413604111,40.7718791822139]},{\"id\":\"239\",\"type\":\"Feature\",\"properties\":{},\"geometry\":{\"type\":\"Polygon\",\"coordinates\":[[[-74.0725828048007,40.6379501149019],[-74.0732988892616,40.6379117487952],[-74.0737409541272,40.6378694731326],[-74.0746959794727,40.6378134198362],[-74.0748706407882,40.6378010501742],[-74.0749285284596,40.6377985171282],[-74.0749667577883,40.6377961850799],[-74.0750766431108,40.6377936432613],[-74.0752936200551,40.6377934968845],[-74.0760145679418,40.6377799334921],[-74.0768414439867,40.6377584990439],[-74.0769405755638,40.6377898545732],[-74.0779306288091,40.6381121581654],[-74.0785468688193,40.638301619649],[-74.078789778894,40.6382767981448],[-74.0788524332942,40.6382653825389],[-74.0789129830842,40.6382486219603],[-74.0789706447616,40.6382267339758],[-74.0790246715483,40.6382000000648],[-74.0805531534529,40.6373282390418],[-74.0808708564439,40.6371478797437],[-74.0817808729539,40.6366312538007],[-74.0830223809167,40.6360333097745],[-74.0837354412153,40.6357453828931],[-74.0851360997542,40.6363678380283],[-74.0856913023672,40.6366155187203],[-74.0858802976291,40.6366998284321],[-74.0869073985997,40.6358654818208],[-74.0875992212594,40.6362702626726],[-74.0887072934659,40.6368534450793],[-74.0889188214593,40.6365366230219],[-74.0891038333107,40.6362552655632],[-74.0891606678122,40.6361745628715],[-74.089223147554,40.636096319592],[-74.0892910907889,40.6360207645887],[-74.089364296848,40.6359481186351],[-74.0894425520535,40.6358785953107],[-74.0895256273481,40.6358123965],[-74.0896132794831,40.6357497168943],[-74.0897052533767,40.6356907394878],[-74.0902788564553,40.6355072680441],[-74.0909084583152,40.6354939674953],[-74.0917341607742,40.6355568667771],[-74.091821729797,40.635563536369],[-74.0924404115719,40.6356046230358],[-74.09302153107,40.6362179602491],[-74.0933908948232,40.6366077938333],[-74.0936278124551,40.6372919338609],[-74.0938642360029,40.6380331558812],[-74.0940945973452,40.639275153009],[-74.0957107209667,40.6391068800136],[-74.096380535363,40.6390436092753],[-74.0968638942807,40.6390157102631],[-74.0976743812558,40.6389689180764],[-74.0978811651006,40.6403662941613],[-74.0992898120037,40.6402129626617],[-74.09990557085,40.6401711936507],[-74.1001673816029,40.6418010623178],[-74.1003931413107,40.6431266059852],[-74.0995708634478,40.6431635208714],[-74.0996629727652,40.6441709335434],[-74.0997174777915,40.6447671108126],[-74.1009042067234,40.6447814745229],[-74.1007290303465,40.6450215317103],[-74.1004944922793,40.6449791459694],[-74.1001338207811,40.644928616394],[-74.1001336675441,40.6450722906987],[-74.0997126036972,40.6450639503479],[-74.0988021426952,40.6450552744315],[-74.0985012898209,40.645378601725],[-74.0960470256219,40.6453809874865],[-74.0946864822241,40.6455639574981],[-74.0936280422211,40.6458468989682],[-74.0930410744649,40.6459702385128],[-74.092989754601,40.6459810214078],[-74.0930065451415,40.6460845548622],[-74.0913584514454,40.6467089645472],[-74.0909617130597,40.6468271839253],[-74.0899248122689,40.6471843723814],[-74.0893989964798,40.6473186002775],[-74.0884566880401,40.647851710913],[-74.0883619062019,40.6479161465266],[-74.0882759147246,40.6479288909634],[-74.088242596199,40.6479098975858],[-74.0879395127196,40.6480883342215],[-74.0876758977335,40.6482435345141],[-74.0863461465882,40.6487078500495],[-74.0857090133641,40.6488887941076],[-74.0852284542643,40.6489337935378],[-74.0848455022297,40.6488993887379],[-74.08483120947,40.6488948984915],[-74.0847622183474,40.6488830264994],[-74.08469541776,40.6488653210966],[-74.0846316533626,40.6488420085953],[-74.0845717342414,40.6488133837754],[-74.0839046860281,40.648589909883],[-74.0825673275387,40.6483240596594],[-74.0822141976463,40.6482884035815],[-74.0821254126322,40.6482863535018],[-74.0820477636683,40.6483159945526],[-74.0818675042957,40.648381632116],[-74.0816539328332,40.6484325011401],[-74.0814237503258,40.6485129662548],[-74.081357506736,40.6484991847786],[-74.0809574516268,40.6483569177582],[-74.0807298555567,40.6482831145842],[-74.0805197064305,40.6482537555308],[-74.0798114324735,40.6483915539653],[-74.0792339950091,40.6481945668572],[-74.0789969312906,40.6481507954584],[-74.0770880470023,40.6472081027472],[-74.0769948783276,40.6472140932745],[-74.076830424083,40.6470887637586],[-74.0765080386106,40.6469770595656],[-74.076210691588,40.6467321232961],[-74.0759936941929,40.6465602642829],[-74.0753091374372,40.6459212627884],[-74.0744542923479,40.6450757291787],[-74.0740795871564,40.6450925695251],[-74.0739598661606,40.6452014463308],[-74.0738740463444,40.6451560568266],[-74.0735925456714,40.645007169084],[-74.0734999792784,40.6450916140735],[-74.073760078872,40.6453215921518],[-74.0738023491205,40.6452939479306],[-74.0738305781091,40.6453200133288],[-74.0737802695018,40.6453645393347],[-74.0738356599942,40.6454156217159],[-74.0738580025291,40.6454330567151],[-74.0738228985427,40.6454517244904],[-74.0733396050698,40.645791357183],[-74.073246861087,40.6457131657422],[-74.0734884069471,40.6455580486222],[-74.0734198539665,40.6454967202752],[-74.0736915840147,40.6453139654476],[-74.0734657638246,40.6451161840716],[-74.0733347541565,40.6450426214869],[-74.0733508546217,40.645030337151],[-74.0732400039227,40.6449721046323],[-74.0730589150007,40.6451532672678],[-74.0730266707332,40.6451394791975],[-74.0732037250785,40.6449521821473],[-74.0730138660771,40.6448469205686],[-74.073057064524,40.6448161584355],[-74.0734153036931,40.6450241589906],[-74.0734273740481,40.6450088091502],[-74.073274195293,40.6449245201645],[-74.0733466378174,40.6448584983931],[-74.0731233073508,40.6447230405374],[-74.0729273160773,40.6448723142786],[-74.0728811066005,40.6448524205018],[-74.0727999693399,40.6449183646366],[-74.0725892210511,40.6447991035109],[-74.0727045485467,40.6446538364488],[-74.0726937315833,40.6446456107466],[-74.0725976374329,40.6447437136064],[-74.0725661479853,40.6447279897158],[-74.0726137934164,40.644683530757],[-74.0726008153319,40.6446753055101],[-74.0725741045946,40.6447020443575],[-74.0725273413941,40.6446782803591],[-74.072576983299,40.6446259262106],[-74.0726288896157,40.6446522381099],[-74.0726180899709,40.6446588295217],[-74.0726245781158,40.6446621186208],[-74.0726677730491,40.6446291611713],[-74.0725553046536,40.6445683121061],[-74.0725445002542,40.6445716121188],[-74.0725336862958,40.6445650325475],[-74.0725876963508,40.6445386546983],[-74.0726006737971,40.6445452328987],[-74.0725855531409,40.6445551211324],[-74.0727261376129,40.6446291242752],[-74.0727918881739,40.644560258743],[-74.0727473252571,40.6445322718098],[-74.0727840717989,40.6445000802339],[-74.0726997542097,40.6444495145204],[-74.0723324741456,40.64460811402],[-74.0717081822654,40.645030890514],[-74.0717178771036,40.6450401066782],[-74.0716888397772,40.6450585692035],[-74.0716597624314,40.6450419871685],[-74.0716839454059,40.6450124603041],[-74.0716888001416,40.6450216803883],[-74.0723106556673,40.6445859938962],[-74.0722573502471,40.6445546713466],[-74.0721629489818,40.6445897761046],[-74.0720198975599,40.6444201738674],[-74.0721142835241,40.6443721585008],[-74.0720997271936,40.6443463452581],[-74.0722336495151,40.6442965102645],[-74.0722933682301,40.6442742884621],[-74.0721863512073,40.6441187055537],[-74.0719784835496,40.6441896400252],[-74.0719639432267,40.6441785826525],[-74.0718622735782,40.6442100022891],[-74.0717579457686,40.6440200859299],[-74.0718717163667,40.643983126036],[-74.071864433725,40.6439665304273],[-74.0719394663469,40.643935126554],[-74.0719491610578,40.6439443426998],[-74.0720596403186,40.6439086679178],[-74.0720022671746,40.6437893734308],[-74.071907705559,40.6438053501672],[-74.0717940580394,40.643824549092],[-74.0717722173688,40.6437802950309],[-74.0716511597316,40.6437951264212],[-74.0715903823573,40.6435995554174],[-74.0716293414034,40.6435865807981],[-74.0715982570481,40.6434683980777],[-74.0713575871711,40.643505545481],[-74.0713425598463,40.6434644659398],[-74.0714923654932,40.6434369809265],[-74.0714743118502,40.6433685131078],[-74.0715035291837,40.6433631062405],[-74.0714834890119,40.643300865844],[-74.0714447822279,40.6432788019766],[-74.0714180629154,40.6432013496534],[-74.0713063382334,40.6432202443295],[-74.0713093448932,40.643229372824],[-74.071144557554,40.6432591496844],[-74.071132522452,40.6432135044348],[-74.0715040972733,40.643137544869],[-74.0714792379082,40.6428165344104],[-74.0716468741069,40.6428086000765],[-74.0716503871541,40.6426881724183],[-74.0717043262269,40.6426881387972],[-74.0717049845301,40.6428045754587],[-74.0721858146345,40.642722333728],[-74.0721109903111,40.6424714574277],[-74.0703757748236,40.6426996432968],[-74.070330701788,40.6425343680519],[-74.0732397575385,40.6421929763289],[-74.0731454710255,40.6418612140695],[-74.0702480516642,40.6422152143897],[-74.070195460036,40.6420157437735],[-74.0730883639843,40.6416450547175],[-74.0728915212022,40.6409309123947],[-74.0719642749415,40.6410038189047],[-74.0719832338372,40.641020640438],[-74.0718064689483,40.641037583455],[-74.0718128838602,40.6411313639896],[-74.0700199564281,40.6412863719902],[-74.0699850117707,40.6410771829177],[-74.0717779454153,40.6409341991795],[-74.0717780455494,40.6409294776964],[-74.0717790690282,40.6409248213747],[-74.0717809934999,40.6409203319872],[-74.0717837765176,40.6409161131198],[-74.0717873543429,40.6409122566653],[-74.0717916466821,40.640908850024],[-74.0717965590452,40.6409059706996],[-74.0718016440859,40.6409031669107],[-74.0718072263008,40.6409009796666],[-74.071813176888,40.6408994594766],[-74.0718193611162,40.6408986397442],[-74.0718256371467,40.6408985403692],[-74.0718318607581,40.6408991641434],[-74.0718378888907,40.6409004949466],[-74.0718378992462,40.6409101133826],[-74.07285187726,40.6408119285384],[-74.072778365953,40.6405372033437],[-74.0730787234359,40.6405215518417],[-74.0730918214394,40.6386272395415],[-74.0730341249213,40.6385988495141],[-74.0729307996448,40.6386008890331],[-74.0729274766072,40.6384493941007],[-74.0730176462967,40.6384348736388],[-74.0730159109743,40.638417623495],[-74.0729334644823,40.6384227277313],[-74.0729242493768,40.6383844696157],[-74.0728741207451,40.6383882268443],[-74.0727948338322,40.6383941700636],[-74.0727222301245,40.6383942160043],[-74.0726717122081,40.6383846294976],[-74.0726148465617,40.638343784554],[-74.0725895562358,40.6383101337123],[-74.0725831954353,40.6382668533727],[-74.0726108036803,40.6382351349652],[-74.0723899948977,40.6382535051996],[-74.0723808763131,40.6381709657491],[-74.0726077935427,40.6381445473369],[-74.0725828048007,40.6379501149019]]]},\"bbox\":[-74.1009042067234,40.6354939674953,-74.0699850117707,40.6489337935378]},{\"id\":\"242\",\"type\":\"Feature\",\"properties\":{},\"geometry\":{\"type\":\"Polygon\",\"coordinates\":[[[-74.1047236915607,40.6455718967893],[-74.1047096956057,40.6454977851303],[-74.104653461807,40.6453078358558],[-74.1066263828212,40.6452617909195],[-74.1067454649583,40.6452590140096],[-74.1077992578623,40.6452344014074],[-74.1076888225674,40.6451308452482],[-74.1075932107624,40.6450186049184],[-74.1075140321588,40.6448995943533],[-74.1071605380405,40.6442117207212],[-74.1065480030262,40.644249535345],[-74.1063512388502,40.6433336285214],[-74.1060724348731,40.6420461707377],[-74.1059384980052,40.6413644742042],[-74.105598070109,40.6397377749752],[-74.1054243413796,40.6389072052168],[-74.1048113836494,40.6389849400764],[-74.1039485603882,40.6391959324493],[-74.1037161521486,40.6392517259692],[-74.1032101282791,40.6393723033561],[-74.1030540861077,40.6394094843722],[-74.1021673022709,40.6396263724266],[-74.1012980083997,40.6398353965037],[-74.1004260565417,40.6400492692195],[-74.09990557085,40.6401711936507],[-74.0992898120037,40.6402129626617],[-74.0978811651006,40.6403662941613],[-74.0976743812558,40.6389689180764],[-74.0968638942807,40.6390157102631],[-74.096380535363,40.6390436092753],[-74.0957107209667,40.6391068800136],[-74.0940945973452,40.639275153009],[-74.0938642360029,40.6380331558812],[-74.0936278124551,40.6372919338609],[-74.0933908948232,40.6366077938333],[-74.09302153107,40.6362179602491],[-74.0924404115719,40.6356046230358],[-74.091821729797,40.635563536369],[-74.0917341607742,40.6355568667771],[-74.0909084583152,40.6354939674953],[-74.0902788564553,40.6355072680441],[-74.0897052533767,40.6356907394878],[-74.0896132794831,40.6357497168943],[-74.0895256273481,40.6358123965],[-74.0894425520535,40.6358785953107],[-74.089364296848,40.6359481186351],[-74.0892910907889,40.6360207645887],[-74.089223147554,40.636096319592],[-74.0891606678122,40.6361745628715],[-74.0891038333107,40.6362552655632],[-74.0889188214593,40.6365366230219],[-74.0887072934659,40.6368534450793],[-74.0875992212594,40.6362702626726],[-74.0869073985997,40.6358654818208],[-74.0858802976291,40.6366998284321],[-74.0856913023672,40.6366155187203],[-74.0851360997542,40.6363678380283],[-74.0837354412153,40.6357453828931],[-74.0839481829487,40.6356623439492],[-74.084437945284,40.6354134869583],[-74.0857507597017,40.6339637962811],[-74.0854758689326,40.633866986173],[-74.0852022916177,40.6337706364007],[-74.0849146852967,40.6336481623552],[-74.0834388524602,40.6322886420547],[-74.082601213258,40.6314756037416],[-74.0820158976934,40.6308997638281],[-74.0814076216934,40.6303094739139],[-74.0817328210313,40.6300204635205],[-74.0807596870461,40.6295022805282],[-74.0797263894259,40.6289589254585],[-74.0803813562341,40.6282701387842],[-74.0804556795619,40.628192859082],[-74.0805174875804,40.6281081218834],[-74.0805649741557,40.6280177574307],[-74.0805970333072,40.6279239457758],[-74.0806132659548,40.6278289376116],[-74.0806204896474,40.6277327939022],[-74.0806483738543,40.6276369130604],[-74.0806966146441,40.6275451342025],[-74.0807633039797,40.6274610958448],[-74.0808451820549,40.6273877278392],[-74.0809977222753,40.6273480516088],[-74.0816536702426,40.627359266452],[-74.0818349920686,40.627409081286],[-74.0820257517075,40.6274433623293],[-74.0822224098841,40.627460781998],[-74.0824210687605,40.6274606397497],[-74.0826176847968,40.6274429384799],[-74.0828083595265,40.6274083843131],[-74.0829895569559,40.6273583098998],[-74.0830639363127,40.6273207414079],[-74.0832625437682,40.6272029798791],[-74.0834498450913,40.6270726738589],[-74.0836238357624,40.6269308145321],[-74.0837827562666,40.6267786369538],[-74.0839250920586,40.6266175921296],[-74.0840496798219,40.6264492577823],[-74.0841556672949,40.6262753518858],[-74.0849635876803,40.6246334698088],[-74.0852513844486,40.6228091070762],[-74.0853734995351,40.6222135650702],[-74.0854901370646,40.6216614140667],[-74.0856065480705,40.6211543755779],[-74.0856182711157,40.6211078360291],[-74.0858141603542,40.6203837845537],[-74.0859003038678,40.6199176645514],[-74.0860070134884,40.6191080991323],[-74.0860427127149,40.6188284128686],[-74.0860950414396,40.6185275581872],[-74.0861090252265,40.6184111121218],[-74.0861290661967,40.6182951811156],[-74.0861551326476,40.6181799479952],[-74.0861871857841,40.6180655937904],[-74.0862251726324,40.617952300441],[-74.0862690343067,40.6178402462888],[-74.0865730456441,40.617177621276],[-74.0869868579211,40.6165412166007],[-74.0874148599225,40.6159375605686],[-74.0876932073323,40.6155433875186],[-74.087835223922,40.6153258850896],[-74.0878529096382,40.6152514704858],[-74.0878529448763,40.615251308365],[-74.0878529446748,40.6152511552765],[-74.0878498994888,40.6151731094029],[-74.087849899298,40.6151729644191],[-74.0878498518173,40.615172803262],[-74.0878248877272,40.6150961699454],[-74.087824840281,40.6150960349034],[-74.0878247692362,40.6150959268951],[-74.0877795711183,40.6150258558178],[-74.0877794775607,40.6150257019001],[-74.0877793355671,40.6150255588256],[-74.0877180435857,40.6149660901461],[-74.087618983105,40.614840904051],[-74.0875370344149,40.6147078495892],[-74.087473653703,40.6145690374121],[-74.0874297206618,40.6144267352947],[-74.0872112963653,40.6133152072532],[-74.0874884307271,40.6129405867337],[-74.087917154116,40.6122955301514],[-74.088217747072,40.6118486869422],[-74.0883338097203,40.6116802713599],[-74.0888673544845,40.6108675271921],[-74.0889984112359,40.6106726248805],[-74.0895895863213,40.6098563196895],[-74.0901097720545,40.6094116224757],[-74.0903639428491,40.6091891200412],[-74.0904564284608,40.6091027592622],[-74.0905585816646,40.609009384729],[-74.090689519153,40.6090722279845],[-74.0908995060704,40.6091582519765],[-74.0917684250023,40.6095142123713],[-74.0920664185093,40.609633252713],[-74.0925694345958,40.6098341928185],[-74.0930738627939,40.6100084327004],[-74.0932035020672,40.6100532186732],[-74.0935904266328,40.6101641808736],[-74.0938160637943,40.6102162199978],[-74.0941358520829,40.6102899697376],[-74.0943364763266,40.6103362451708],[-74.0950774885544,40.6104532166555],[-74.0954534144869,40.6105041807992],[-74.0956842112895,40.6105160973164],[-74.0959340314964,40.6105289952724],[-74.0961134992863,40.6105382647995],[-74.0966225224588,40.6105462137753],[-74.0971576355395,40.6105317883892],[-74.09724018111,40.6105295627341],[-74.0974296613972,40.6105244935285],[-74.0975801400525,40.6105189699463],[-74.0976615595626,40.6105159804012],[-74.0977711589642,40.6106318258376],[-74.0978790553563,40.6107375552536],[-74.0981045927185,40.6109697516887],[-74.0984720825001,40.611362137078],[-74.0986229850572,40.6115271454201],[-74.0993519031023,40.6124273097812],[-74.0998788108202,40.6129268859258],[-74.1005531578988,40.6134687804493],[-74.1006852325987,40.6135613834622],[-74.1012776163432,40.6139936358093],[-74.1020958162291,40.6146087247922],[-74.1025694955478,40.6151956773895],[-74.1030274045309,40.615789342024],[-74.103510726851,40.6164243095613],[-74.1040310940552,40.6170037414701],[-74.1045855667422,40.6176211356753],[-74.1049547171852,40.618030797645],[-74.1051176961021,40.6182112383967],[-74.1051885722185,40.6182897089381],[-74.1055274633608,40.6186005636066],[-74.1060908710859,40.6189924301065],[-74.1073423657875,40.619551311537],[-74.1077078285154,40.6197077324504],[-74.1091095378985,40.6203044746945],[-74.1100169833401,40.6206965793014],[-74.1109454053937,40.6212027237219],[-74.1115354148697,40.6216118809448],[-74.1123523577692,40.6222735268212],[-74.1132639726394,40.6230626603569],[-74.1154206960623,40.6239191981134],[-74.1162756061652,40.6242476562606],[-74.1170152372637,40.6245318126463],[-74.1171754876239,40.6245865722006],[-74.1173328508321,40.6246459937738],[-74.1174870939275,40.6247099893647],[-74.1176379886597,40.6247784628636],[-74.1177853103129,40.6248513136556],[-74.1179288400647,40.6249284339162],[-74.1180683649861,40.6250097086116],[-74.1182036792261,40.6250950172979],[-74.1183345816469,40.6251842332238],[-74.1184608770083,40.625277225129],[-74.1191661567785,40.6258320636274],[-74.1196758392056,40.6261996572332],[-74.1201303591603,40.6265443888688],[-74.1205701048202,40.6269969364437],[-74.1212582600738,40.6278309864649],[-74.1220570336365,40.6283715243847],[-74.1230354145118,40.6290194516781],[-74.1232211852652,40.629256827186],[-74.123615668839,40.6298525843926],[-74.1240197998743,40.6304420594846],[-74.1243171358425,40.63088334463],[-74.1244910820903,40.6311428422138],[-74.124893161571,40.6317362273528],[-74.1238617875727,40.6318432271493],[-74.1227954025668,40.6319726681384],[-74.1216866117609,40.6320992624541],[-74.1204384135161,40.6322482530473],[-74.1191680855721,40.6323997285507],[-74.1181058583418,40.6325296169962],[-74.1168376756955,40.632683054683],[-74.1169598641774,40.6333596452612],[-74.1170461898179,40.6338248471651],[-74.1170793376001,40.6340153454606],[-74.1172009508669,40.6345763356181],[-74.1178119080059,40.6345286680743],[-74.1179074378121,40.6345183411455],[-74.1179845676586,40.6345100015561],[-74.1183872042264,40.634466469895],[-74.1184947329636,40.6344548441803],[-74.1185962388404,40.6344457388293],[-74.1192756902235,40.6343847795053],[-74.1194321785976,40.6343707382492],[-74.1197955665928,40.6343428709418],[-74.1198840855109,40.6343360806135],[-74.1202398463909,40.6343087961865],[-74.120255335713,40.6343971795439],[-74.1203834499724,40.6351282146462],[-74.1204044301637,40.6352479204183],[-74.1204254904594,40.6353680862669],[-74.1206311105641,40.6365809872737],[-74.1200326364461,40.6366452821365],[-74.1197532341418,40.6366749151046],[-74.1193668050395,40.6367252606422],[-74.1192393940914,40.6367418597444],[-74.1189994275123,40.6367731213429],[-74.1188744343914,40.6367894050577],[-74.1187371218781,40.6368072925771],[-74.1186064003267,40.6368243221429],[-74.1184740276993,40.6368415666844],[-74.11834409429,40.6368584924804],[-74.1181926988531,40.6368782146939],[-74.1180213871801,40.6369005317379],[-74.1178484468327,40.636923060017],[-74.1176871485599,40.6369440704515],[-74.1175505031447,40.6369618703209],[-74.1176587042513,40.6380707038134],[-74.1176608306128,40.6381288752105],[-74.1176898657114,40.6389605618521],[-74.1176909470834,40.6390542354971],[-74.1176915679692,40.6391080039868],[-74.1176954163291,40.639441384106],[-74.1177067557684,40.6394898114467],[-74.1177388350227,40.6396268043628],[-74.1177871185251,40.6398329946022],[-74.1177929014576,40.6398576863272],[-74.1178759401661,40.6401639750841],[-74.1179535986468,40.6404382846398],[-74.1179933179374,40.6405785790435],[-74.11806858402,40.641306157506],[-74.119225797988,40.6411861183665],[-74.1196961157229,40.6411373295127],[-74.1199494658524,40.6411166777604],[-74.1201044423802,40.6410966559431],[-74.1202013887921,40.6410841301792],[-74.1204504388312,40.6410398080616],[-74.1206952130434,40.6409839533373],[-74.1209343513239,40.6409169465823],[-74.1207146564895,40.6410540212577],[-74.1206478263856,40.6410523335801],[-74.1205757714116,40.6410645670694],[-74.1205295991132,40.6410710208692],[-74.1201693177675,40.641147234279],[-74.1199362817426,40.6412058429359],[-74.1199725925818,40.641323052687],[-74.1196086477351,40.6413885474746],[-74.1196271364325,40.6414508666978],[-74.1199584791779,40.6422176919821],[-74.1198559200486,40.642243852748],[-74.1195313412583,40.6414781529942],[-74.1194670939729,40.6414871123881],[-74.1194513627303,40.641442887113],[-74.119427793799,40.6414317631632],[-74.1193245064261,40.6414474367658],[-74.1190986849413,40.6414817051017],[-74.1194823526528,40.6423633405838],[-74.1194017762325,40.6423876167277],[-74.1190049624388,40.6414728536711],[-74.1186178325235,40.6415386034466],[-74.1186063422492,40.6415714896588],[-74.1186898216572,40.641805881658],[-74.1186531961719,40.6418170849943],[-74.1188765393734,40.6423956045873],[-74.1189009639721,40.6423918574893],[-74.1189622541581,40.6425127545533],[-74.1188377263887,40.6425501026724],[-74.1186462769447,40.642047847512],[-74.1185851266655,40.6420051098051],[-74.1184226562395,40.6415842880418],[-74.1184033306084,40.641538039257],[-74.1181568454135,40.6416019225856],[-74.1182097960854,40.6417584738851],[-74.118009150475,40.6418137359192],[-74.1179187669701,40.641834115537],[-74.1177979126975,40.6417916394343],[-74.1177583861294,40.6416923976604],[-74.1177502359359,40.6416694985951],[-74.1176999833632,40.6415513721849],[-74.1174992805505,40.6415914902559],[-74.1171224854813,40.6416760957171],[-74.1172255623435,40.641852331282],[-74.1171409212673,40.6418839609256],[-74.1167233559441,40.6420399943657],[-74.1167385140329,40.6420677239782],[-74.1168854399975,40.6423753145873],[-74.117034961168,40.6426580246138],[-74.1172261811776,40.6430355985585],[-74.1171504847345,40.643058007674],[-74.1170572872387,40.6428515387815],[-74.1169592336499,40.6426618235058],[-74.1168440614968,40.6424628204728],[-74.1167411523882,40.6422898586957],[-74.116667556494,40.6421150048138],[-74.1166113995477,40.6421336710053],[-74.1166012387996,40.6421182211934],[-74.1163014806797,40.6422109036203],[-74.1163331487823,40.6422791057342],[-74.1163062937659,40.6422884370638],[-74.1167549081997,40.6431700653572],[-74.116671893878,40.643198063905],[-74.1162477760941,40.6423554903649],[-74.116220917796,40.6423629621055],[-74.1161587074257,40.6422531409003],[-74.1161435660177,40.6422246925809],[-74.1159984120471,40.6422705323422],[-74.115720649966,40.6423600581553],[-74.1156497140954,40.6423829216594],[-74.115352300892,40.642478778982],[-74.1151186263358,40.6427932313167],[-74.1148088291841,40.6429852066326],[-74.1147822435245,40.6429658548998],[-74.1142968659868,40.6432873869405],[-74.1137981397812,40.643617755214],[-74.1140420101034,40.6440507416512],[-74.1139524197522,40.6441448311441],[-74.1128895434261,40.6445406840962],[-74.1128525095581,40.6444817508588],[-74.1138585716414,40.6440842507292],[-74.1138722625832,40.6440528306704],[-74.1136551888441,40.6436957950902],[-74.1134355162034,40.6438294905309],[-74.1133317106758,40.6437317361732],[-74.1123051871542,40.6443270398924],[-74.1118094691919,40.6446189146709],[-74.1119048156557,40.6447142661336],[-74.1111627726011,40.6451046628778],[-74.1111178144918,40.645055141766],[-74.111767944685,40.644714399241],[-74.1117267776535,40.6446676014517],[-74.1116778292726,40.6446964223792],[-74.1114971895488,40.6447864037153],[-74.1109242963397,40.6450898427786],[-74.1097408032107,40.6454719679745],[-74.1095395635004,40.6455040724227],[-74.1088663764154,40.6455873685],[-74.1086970150402,40.6455829630732],[-74.1082376821135,40.6455710132794],[-74.1077982185874,40.6455702238694],[-74.1068049035659,40.645568435626],[-74.1047236915607,40.6455718967893]]]},\"bbox\":[-74.124893161571,40.609009384729,-74.0797263894259,40.6455873685]},{\"id\":\"248\",\"type\":\"Feature\",\"properties\":{},\"geometry\":{\"type\":\"Polygon\",\"coordinates\":[[[-74.0760174332016,40.5782531406326],[-74.0761115430008,40.5781820890632],[-74.0762064557158,40.5781348413523],[-74.0762482256749,40.5781126436203],[-74.0762618329263,40.5780932363866],[-74.0762908872102,40.5780738197947],[-74.0763399174046,40.5780446894714],[-74.0763680669838,40.5780294293823],[-74.0764007473909,40.5780030817152],[-74.076409809877,40.5779836783866],[-74.0763999120403,40.5779780017583],[-74.0763061668506,40.5779283244839],[-74.0762916150127,40.5779158645834],[-74.0762988729282,40.5779068527156],[-74.0763161363895,40.5779068412486],[-74.0764289435218,40.5779583474078],[-74.0764563728637,40.5779711733396],[-74.0764942941566,40.577969073287],[-74.0765178926229,40.5779482752631],[-74.0765405752901,40.5779198558036],[-74.0765559889406,40.5778907477798],[-74.076585025981,40.5778574747513],[-74.0766232982229,40.577826762952],[-74.0767242019885,40.5777387728792],[-74.0768837273555,40.5776450170631],[-74.0769169917884,40.5775877277288],[-74.0767389387791,40.5773807369264],[-74.0767498369922,40.5773751869163],[-74.0768993367547,40.577524535321],[-74.0769402784774,40.5775425724337],[-74.0773761887207,40.5772903857853],[-74.0783031551089,40.5764729457075],[-74.0787755924364,40.5760190490707],[-74.0792646767214,40.5756795191514],[-74.0786808029191,40.5750900524112],[-74.0787533170424,40.5750503526097],[-74.0793378685519,40.5756354311584],[-74.0801801383448,40.5751886452857],[-74.0805043552561,40.5749886857059],[-74.080908297109,40.5746980312442],[-74.0813391719694,40.5743282154456],[-74.0817387176029,40.5739468053397],[-74.0823082917133,40.573430729176],[-74.0825933167977,40.5731577420362],[-74.0830076721791,40.5727937960106],[-74.0836006250237,40.5723797016662],[-74.0846922255573,40.5714861402348],[-74.0859779402009,40.5722451969027],[-74.0876593809823,40.5730208911429],[-74.0876988427092,40.5730701107451],[-74.0877831762721,40.5730274001598],[-74.0879208574448,40.5729576716609],[-74.0881350187525,40.5728359465527],[-74.088340345881,40.5727054459154],[-74.0885359420172,40.5725667324151],[-74.0887209695389,40.5724204605295],[-74.0887677325344,40.5723827113063],[-74.0888155438423,40.5723331724773],[-74.0891800365551,40.5719555150663],[-74.0894191129704,40.5717290091949],[-74.0894618444019,40.5716885243269],[-74.0894639931636,40.5716175711648],[-74.0897076794751,40.5713712126151],[-74.0902790697321,40.5707892417106],[-74.0910723794141,40.5699374208417],[-74.0920459827669,40.5689005640807],[-74.0927522110585,40.5681042735598],[-74.0927720492564,40.5679516355539],[-74.0938744161311,40.5684171680774],[-74.0946074358848,40.5687978492187],[-74.0953477777859,40.5691896140738],[-74.0960899875389,40.5695685310942],[-74.0968231369206,40.5699560239537],[-74.0975678192437,40.570350669615],[-74.0983216189564,40.5707397563024],[-74.0990510147554,40.5711190073345],[-74.0997890355515,40.5715120702034],[-74.100541983834,40.571890138622],[-74.1012729781062,40.5722866912328],[-74.1020307803482,40.5726699047124],[-74.1027734421207,40.5730548476381],[-74.1035239136266,40.5734365098123],[-74.1042708410226,40.5738194940677],[-74.1047112630189,40.574014165249],[-74.1052443759031,40.5731022653828],[-74.1056731774807,40.5725160583404],[-74.1060449985765,40.5720724050284],[-74.1063772428677,40.572232595787],[-74.1064958890706,40.5721202686746],[-74.1075077470337,40.571095984252],[-74.1081386280115,40.5704991396722],[-74.1087416516784,40.5699247194368],[-74.1066058658935,40.5687864929239],[-74.1054744159447,40.5682635674276],[-74.1046707876234,40.5678853522913],[-74.1038713265967,40.5675088738795],[-74.1030718370878,40.5671310499424],[-74.1020908528741,40.5666566284955],[-74.1015510859606,40.5663940813837],[-74.1007879795783,40.5660230434554],[-74.1000242790148,40.5656517128019],[-74.098953485864,40.5651322173566],[-74.097631549713,40.5644903947026],[-74.0957149851511,40.5635545008311],[-74.0954398401216,40.5634201389719],[-74.0940721785096,40.562739843728],[-74.0951121014822,40.5631814976779],[-74.0952429204623,40.5631566103984],[-74.0954251861277,40.5631628591518],[-74.0956845105469,40.5629276214147],[-74.0956647885516,40.5628275416684],[-74.0956734484211,40.5627838220188],[-74.0957133885505,40.5627590936156],[-74.0957628791559,40.5627403430328],[-74.0958246863005,40.5627304973619],[-74.0958883451141,40.5627331404086],[-74.0961199394455,40.5625957985039],[-74.0962934904477,40.5624290549017],[-74.096615090725,40.562095369528],[-74.0968718357063,40.5617261959939],[-74.0969834629474,40.5614844401842],[-74.0970263011653,40.5613446621484],[-74.0970899114495,40.561262791085],[-74.097156426514,40.5611965308521],[-74.0972356758856,40.5611278103687],[-74.0973087978579,40.5610240348337],[-74.0974211642704,40.5608918710997],[-74.0975997167585,40.5606211491891],[-74.0978895489385,40.5601776499806],[-74.097965398558,40.5600447729856],[-74.0979801104763,40.5600012370982],[-74.0979949556795,40.5599753288977],[-74.0980457852103,40.5599213890164],[-74.0981218103277,40.5599011757142],[-74.0981991411244,40.5598446997514],[-74.0982741256362,40.5595570318125],[-74.0982917770923,40.5593408372478],[-74.0982230174117,40.5592918047786],[-74.0980883314073,40.5592109661672],[-74.0980004912242,40.5591939293517],[-74.0978337718928,40.5591286770659],[-74.0977981221189,40.5590954653971],[-74.0978227391317,40.5590616891011],[-74.0978496282298,40.5590418924367],[-74.0979331957611,40.5590496855054],[-74.0986235166744,40.5593962044871],[-74.0986601741209,40.5594157837659],[-74.0987076394707,40.5594318245818],[-74.0987656237807,40.5594317747329],[-74.0988340972695,40.5593955317783],[-74.0989272806244,40.5593582796238],[-74.0990969467719,40.5592670135925],[-74.0993291727667,40.5591056367692],[-74.0992974061758,40.5590131954851],[-74.0993817835849,40.558972416007],[-74.099870717099,40.5591017244193],[-74.1000969615538,40.5589616685021],[-74.1017387963977,40.5599138013492],[-74.101993173561,40.5600231157603],[-74.1022445113953,40.5601364477605],[-74.1024927000443,40.5602537470384],[-74.1027376320089,40.5603749623801],[-74.1029792021491,40.560500042571],[-74.1032173029549,40.5606289327965],[-74.1034518339968,40.5607615773358],[-74.1036826924782,40.5608979186702],[-74.1039097779568,40.5610378965769],[-74.1041329923506,40.5611814517325],[-74.1048477412688,40.5616034625918],[-74.1055779266197,40.5619981967784],[-74.1061738411013,40.5623045558038],[-74.1069083960479,40.5626752694541],[-74.1071054805562,40.5627781069385],[-74.1078694309248,40.563153811958],[-74.1086174133466,40.5635365871189],[-74.1093636177244,40.5639171609129],[-74.1101409445282,40.5643188902954],[-74.1121138715328,40.5655137815737],[-74.1137008033457,40.5664679679448],[-74.1137630862528,40.5665054131835],[-74.1143062473592,40.5659556250977],[-74.1149004994022,40.5653752095488],[-74.1154670028527,40.5648141818979],[-74.1163648381311,40.5639238611891],[-74.1164120021297,40.5639517396164],[-74.1172143788302,40.5644259880984],[-74.1180420287262,40.5649298656282],[-74.118761863397,40.5653634482781],[-74.119481572783,40.5657877763358],[-74.1202415664607,40.5662356893206],[-74.1216678406158,40.567096683389],[-74.1230942878357,40.5679745912262],[-74.123293539013,40.5680840877133],[-74.1235981098141,40.5682482054482],[-74.1239521150409,40.5684389435216],[-74.124900521376,40.5689573665921],[-74.1241870817471,40.5694327614286],[-74.1235854909642,40.5698407532329],[-74.1234530075962,40.5699287573013],[-74.1233816580094,40.5699339093243],[-74.1231753710629,40.5700837026558],[-74.1231364053851,40.5701150151926],[-74.1230999609446,40.5701758118328],[-74.1227911498428,40.5704380692989],[-74.1225979270832,40.5706046577331],[-74.1221700424953,40.5709477186412],[-74.1216271164601,40.5715096185936],[-74.1214468328801,40.57178383931],[-74.1213887907549,40.572100436337],[-74.1213896307623,40.5722318932851],[-74.1213590205861,40.5723808365495],[-74.121358995966,40.5723809356334],[-74.1213589843201,40.5723810256982],[-74.121344024412,40.5725320956725],[-74.1213449969363,40.5726838872449],[-74.1213449970672,40.5726839592868],[-74.1213619242003,40.5728349685558],[-74.1213944692522,40.5729837739403],[-74.1216058681234,40.573564145303],[-74.1217022324118,40.5738402533476],[-74.1218322748841,40.574225314394],[-74.1218548136861,40.5746614068763],[-74.1217277166587,40.5749152106385],[-74.1215387674335,40.5751614774726],[-74.121258615222,40.5752631195572],[-74.121122279333,40.5753150715114],[-74.1197871511838,40.5758237824126],[-74.1191110252055,40.5761654774521],[-74.1184920106224,40.5766350634357],[-74.1180350612503,40.5771786343042],[-74.1179264381534,40.5773169422561],[-74.1178130604914,40.5774530144725],[-74.1176950072069,40.5775867545021],[-74.1175723607945,40.5777180694923],[-74.1174941420552,40.5778100246941],[-74.1174097735974,40.5778987631473],[-74.1173194817519,40.5779840459682],[-74.1172235117668,40.5780656432587],[-74.1171221207222,40.5781433350144],[-74.1170155810785,40.5782169138228],[-74.1169299199924,40.5782506788798],[-74.1168406034859,40.5782783978628],[-74.1167483669826,40.5782998430838],[-74.1166539637183,40.5783148399695],[-74.1160227191431,40.5783700168082],[-74.1159363766977,40.5783851985758],[-74.1158521038648,40.5784060740125],[-74.1157705463912,40.5784324839797],[-74.1156923263322,40.5784642270395],[-74.1156180420505,40.5785010585544],[-74.1155482635067,40.5785426987957],[-74.1154835228019,40.5785888275504],[-74.1154243165552,40.5786390931233],[-74.1148208908952,40.579185100782],[-74.1142289425907,40.5797421342588],[-74.1139765566637,40.5800214395898],[-74.1136744744538,40.5803211634128],[-74.113071018584,40.5807767500034],[-74.1122114558433,40.5812744654291],[-74.1112785405364,40.5817989559234],[-74.1102886175544,40.5822069746525],[-74.1092498285208,40.5826866401213],[-74.1079099897602,40.5836938652574],[-74.1072917837602,40.5842305255657],[-74.1064961245923,40.5849035703603],[-74.1058854045232,40.5854154354517],[-74.1052592275867,40.5859296635946],[-74.1027901006677,40.5842327149919],[-74.1026346875422,40.5841151733957],[-74.1024984314161,40.5840232605353],[-74.1006145801904,40.5827194182761],[-74.0984414788681,40.5812499337172],[-74.0977203681416,40.5818211028058],[-74.0971215549332,40.5822930892025],[-74.0968287970363,40.5825252222725],[-74.096170382248,40.5830520138776],[-74.0954395134143,40.5836317875044],[-74.0947118590031,40.5842108405753],[-74.094025633489,40.5847546094797],[-74.0934084627839,40.5852483399345],[-74.0926174370924,40.58594803923],[-74.0916491079402,40.5854519785192],[-74.0908946511025,40.5850648841735],[-74.0891229467207,40.5841507892854],[-74.0885614466959,40.5847305496322],[-74.0884974330867,40.5847966524084],[-74.086542883152,40.5837417552043],[-74.0854786846039,40.5831981210118],[-74.0843610471679,40.5826271690754],[-74.0822085607021,40.5815396613599],[-74.0810718476075,40.5809523275981],[-74.0799351663155,40.5803649816496],[-74.0790046280575,40.57988713343],[-74.0783295240161,40.5795404434938],[-74.0778549689357,40.5792907975621],[-74.0778038377618,40.5792584403326],[-74.0777499926933,40.5792181152744],[-74.0769200591838,40.5787672256659],[-74.0768088538494,40.578702066067],[-74.0760174332016,40.5782531406326]]]},\"bbox\":[-74.124900521376,40.5589616685021,-74.0760174332016,40.58594803923]}],\"bbox\":[-74.124900521376,40.5589616685021,-73.8546413604111,40.7718791822139]},\"hovertemplate\":\"index=%{location}<extra></extra>\",\"locations\":[124,171,239,242,248],\"name\":\"\",\"showlegend\":true,\"showscale\":false,\"subplot\":\"mapbox\",\"z\":[1,1,1,1,1],\"type\":\"choroplethmapbox\"}],                        {\"template\":{\"data\":{\"histogram2dcontour\":[{\"type\":\"histogram2dcontour\",\"colorbar\":{\"outlinewidth\":0,\"ticks\":\"\"},\"colorscale\":[[0.0,\"#0d0887\"],[0.1111111111111111,\"#46039f\"],[0.2222222222222222,\"#7201a8\"],[0.3333333333333333,\"#9c179e\"],[0.4444444444444444,\"#bd3786\"],[0.5555555555555556,\"#d8576b\"],[0.6666666666666666,\"#ed7953\"],[0.7777777777777778,\"#fb9f3a\"],[0.8888888888888888,\"#fdca26\"],[1.0,\"#f0f921\"]]}],\"choropleth\":[{\"type\":\"choropleth\",\"colorbar\":{\"outlinewidth\":0,\"ticks\":\"\"}}],\"histogram2d\":[{\"type\":\"histogram2d\",\"colorbar\":{\"outlinewidth\":0,\"ticks\":\"\"},\"colorscale\":[[0.0,\"#0d0887\"],[0.1111111111111111,\"#46039f\"],[0.2222222222222222,\"#7201a8\"],[0.3333333333333333,\"#9c179e\"],[0.4444444444444444,\"#bd3786\"],[0.5555555555555556,\"#d8576b\"],[0.6666666666666666,\"#ed7953\"],[0.7777777777777778,\"#fb9f3a\"],[0.8888888888888888,\"#fdca26\"],[1.0,\"#f0f921\"]]}],\"heatmap\":[{\"type\":\"heatmap\",\"colorbar\":{\"outlinewidth\":0,\"ticks\":\"\"},\"colorscale\":[[0.0,\"#0d0887\"],[0.1111111111111111,\"#46039f\"],[0.2222222222222222,\"#7201a8\"],[0.3333333333333333,\"#9c179e\"],[0.4444444444444444,\"#bd3786\"],[0.5555555555555556,\"#d8576b\"],[0.6666666666666666,\"#ed7953\"],[0.7777777777777778,\"#fb9f3a\"],[0.8888888888888888,\"#fdca26\"],[1.0,\"#f0f921\"]]}],\"heatmapgl\":[{\"type\":\"heatmapgl\",\"colorbar\":{\"outlinewidth\":0,\"ticks\":\"\"},\"colorscale\":[[0.0,\"#0d0887\"],[0.1111111111111111,\"#46039f\"],[0.2222222222222222,\"#7201a8\"],[0.3333333333333333,\"#9c179e\"],[0.4444444444444444,\"#bd3786\"],[0.5555555555555556,\"#d8576b\"],[0.6666666666666666,\"#ed7953\"],[0.7777777777777778,\"#fb9f3a\"],[0.8888888888888888,\"#fdca26\"],[1.0,\"#f0f921\"]]}],\"contourcarpet\":[{\"type\":\"contourcarpet\",\"colorbar\":{\"outlinewidth\":0,\"ticks\":\"\"}}],\"contour\":[{\"type\":\"contour\",\"colorbar\":{\"outlinewidth\":0,\"ticks\":\"\"},\"colorscale\":[[0.0,\"#0d0887\"],[0.1111111111111111,\"#46039f\"],[0.2222222222222222,\"#7201a8\"],[0.3333333333333333,\"#9c179e\"],[0.4444444444444444,\"#bd3786\"],[0.5555555555555556,\"#d8576b\"],[0.6666666666666666,\"#ed7953\"],[0.7777777777777778,\"#fb9f3a\"],[0.8888888888888888,\"#fdca26\"],[1.0,\"#f0f921\"]]}],\"surface\":[{\"type\":\"surface\",\"colorbar\":{\"outlinewidth\":0,\"ticks\":\"\"},\"colorscale\":[[0.0,\"#0d0887\"],[0.1111111111111111,\"#46039f\"],[0.2222222222222222,\"#7201a8\"],[0.3333333333333333,\"#9c179e\"],[0.4444444444444444,\"#bd3786\"],[0.5555555555555556,\"#d8576b\"],[0.6666666666666666,\"#ed7953\"],[0.7777777777777778,\"#fb9f3a\"],[0.8888888888888888,\"#fdca26\"],[1.0,\"#f0f921\"]]}],\"mesh3d\":[{\"type\":\"mesh3d\",\"colorbar\":{\"outlinewidth\":0,\"ticks\":\"\"}}],\"scatter\":[{\"fillpattern\":{\"fillmode\":\"overlay\",\"size\":10,\"solidity\":0.2},\"type\":\"scatter\"}],\"parcoords\":[{\"type\":\"parcoords\",\"line\":{\"colorbar\":{\"outlinewidth\":0,\"ticks\":\"\"}}}],\"scatterpolargl\":[{\"type\":\"scatterpolargl\",\"marker\":{\"colorbar\":{\"outlinewidth\":0,\"ticks\":\"\"}}}],\"bar\":[{\"error_x\":{\"color\":\"#2a3f5f\"},\"error_y\":{\"color\":\"#2a3f5f\"},\"marker\":{\"line\":{\"color\":\"#E5ECF6\",\"width\":0.5},\"pattern\":{\"fillmode\":\"overlay\",\"size\":10,\"solidity\":0.2}},\"type\":\"bar\"}],\"scattergeo\":[{\"type\":\"scattergeo\",\"marker\":{\"colorbar\":{\"outlinewidth\":0,\"ticks\":\"\"}}}],\"scatterpolar\":[{\"type\":\"scatterpolar\",\"marker\":{\"colorbar\":{\"outlinewidth\":0,\"ticks\":\"\"}}}],\"histogram\":[{\"marker\":{\"pattern\":{\"fillmode\":\"overlay\",\"size\":10,\"solidity\":0.2}},\"type\":\"histogram\"}],\"scattergl\":[{\"type\":\"scattergl\",\"marker\":{\"colorbar\":{\"outlinewidth\":0,\"ticks\":\"\"}}}],\"scatter3d\":[{\"type\":\"scatter3d\",\"line\":{\"colorbar\":{\"outlinewidth\":0,\"ticks\":\"\"}},\"marker\":{\"colorbar\":{\"outlinewidth\":0,\"ticks\":\"\"}}}],\"scattermapbox\":[{\"type\":\"scattermapbox\",\"marker\":{\"colorbar\":{\"outlinewidth\":0,\"ticks\":\"\"}}}],\"scatterternary\":[{\"type\":\"scatterternary\",\"marker\":{\"colorbar\":{\"outlinewidth\":0,\"ticks\":\"\"}}}],\"scattercarpet\":[{\"type\":\"scattercarpet\",\"marker\":{\"colorbar\":{\"outlinewidth\":0,\"ticks\":\"\"}}}],\"carpet\":[{\"aaxis\":{\"endlinecolor\":\"#2a3f5f\",\"gridcolor\":\"white\",\"linecolor\":\"white\",\"minorgridcolor\":\"white\",\"startlinecolor\":\"#2a3f5f\"},\"baxis\":{\"endlinecolor\":\"#2a3f5f\",\"gridcolor\":\"white\",\"linecolor\":\"white\",\"minorgridcolor\":\"white\",\"startlinecolor\":\"#2a3f5f\"},\"type\":\"carpet\"}],\"table\":[{\"cells\":{\"fill\":{\"color\":\"#EBF0F8\"},\"line\":{\"color\":\"white\"}},\"header\":{\"fill\":{\"color\":\"#C8D4E3\"},\"line\":{\"color\":\"white\"}},\"type\":\"table\"}],\"barpolar\":[{\"marker\":{\"line\":{\"color\":\"#E5ECF6\",\"width\":0.5},\"pattern\":{\"fillmode\":\"overlay\",\"size\":10,\"solidity\":0.2}},\"type\":\"barpolar\"}],\"pie\":[{\"automargin\":true,\"type\":\"pie\"}]},\"layout\":{\"autotypenumbers\":\"strict\",\"colorway\":[\"#636efa\",\"#EF553B\",\"#00cc96\",\"#ab63fa\",\"#FFA15A\",\"#19d3f3\",\"#FF6692\",\"#B6E880\",\"#FF97FF\",\"#FECB52\"],\"font\":{\"color\":\"#2a3f5f\"},\"hovermode\":\"closest\",\"hoverlabel\":{\"align\":\"left\"},\"paper_bgcolor\":\"white\",\"plot_bgcolor\":\"#E5ECF6\",\"polar\":{\"bgcolor\":\"#E5ECF6\",\"angularaxis\":{\"gridcolor\":\"white\",\"linecolor\":\"white\",\"ticks\":\"\"},\"radialaxis\":{\"gridcolor\":\"white\",\"linecolor\":\"white\",\"ticks\":\"\"}},\"ternary\":{\"bgcolor\":\"#E5ECF6\",\"aaxis\":{\"gridcolor\":\"white\",\"linecolor\":\"white\",\"ticks\":\"\"},\"baxis\":{\"gridcolor\":\"white\",\"linecolor\":\"white\",\"ticks\":\"\"},\"caxis\":{\"gridcolor\":\"white\",\"linecolor\":\"white\",\"ticks\":\"\"}},\"coloraxis\":{\"colorbar\":{\"outlinewidth\":0,\"ticks\":\"\"}},\"colorscale\":{\"sequential\":[[0.0,\"#0d0887\"],[0.1111111111111111,\"#46039f\"],[0.2222222222222222,\"#7201a8\"],[0.3333333333333333,\"#9c179e\"],[0.4444444444444444,\"#bd3786\"],[0.5555555555555556,\"#d8576b\"],[0.6666666666666666,\"#ed7953\"],[0.7777777777777778,\"#fb9f3a\"],[0.8888888888888888,\"#fdca26\"],[1.0,\"#f0f921\"]],\"sequentialminus\":[[0.0,\"#0d0887\"],[0.1111111111111111,\"#46039f\"],[0.2222222222222222,\"#7201a8\"],[0.3333333333333333,\"#9c179e\"],[0.4444444444444444,\"#bd3786\"],[0.5555555555555556,\"#d8576b\"],[0.6666666666666666,\"#ed7953\"],[0.7777777777777778,\"#fb9f3a\"],[0.8888888888888888,\"#fdca26\"],[1.0,\"#f0f921\"]],\"diverging\":[[0,\"#8e0152\"],[0.1,\"#c51b7d\"],[0.2,\"#de77ae\"],[0.3,\"#f1b6da\"],[0.4,\"#fde0ef\"],[0.5,\"#f7f7f7\"],[0.6,\"#e6f5d0\"],[0.7,\"#b8e186\"],[0.8,\"#7fbc41\"],[0.9,\"#4d9221\"],[1,\"#276419\"]]},\"xaxis\":{\"gridcolor\":\"white\",\"linecolor\":\"white\",\"ticks\":\"\",\"title\":{\"standoff\":15},\"zerolinecolor\":\"white\",\"automargin\":true,\"zerolinewidth\":2},\"yaxis\":{\"gridcolor\":\"white\",\"linecolor\":\"white\",\"ticks\":\"\",\"title\":{\"standoff\":15},\"zerolinecolor\":\"white\",\"automargin\":true,\"zerolinewidth\":2},\"scene\":{\"xaxis\":{\"backgroundcolor\":\"#E5ECF6\",\"gridcolor\":\"white\",\"linecolor\":\"white\",\"showbackground\":true,\"ticks\":\"\",\"zerolinecolor\":\"white\",\"gridwidth\":2},\"yaxis\":{\"backgroundcolor\":\"#E5ECF6\",\"gridcolor\":\"white\",\"linecolor\":\"white\",\"showbackground\":true,\"ticks\":\"\",\"zerolinecolor\":\"white\",\"gridwidth\":2},\"zaxis\":{\"backgroundcolor\":\"#E5ECF6\",\"gridcolor\":\"white\",\"linecolor\":\"white\",\"showbackground\":true,\"ticks\":\"\",\"zerolinecolor\":\"white\",\"gridwidth\":2}},\"shapedefaults\":{\"line\":{\"color\":\"#2a3f5f\"}},\"annotationdefaults\":{\"arrowcolor\":\"#2a3f5f\",\"arrowhead\":0,\"arrowwidth\":1},\"geo\":{\"bgcolor\":\"white\",\"landcolor\":\"#E5ECF6\",\"subunitcolor\":\"white\",\"showland\":true,\"showlakes\":true,\"lakecolor\":\"white\"},\"title\":{\"x\":0.05},\"mapbox\":{\"style\":\"light\"}}},\"mapbox\":{\"domain\":{\"x\":[0.0,1.0],\"y\":[0.0,1.0]},\"center\":{\"lat\":40.7128,\"lon\":-74.006},\"zoom\":10,\"style\":\"carto-positron\"},\"legend\":{\"tracegroupgap\":0},\"margin\":{\"t\":0,\"r\":0,\"l\":0,\"b\":0}},                        {\"responsive\": true}                    ).then(function(){\n",
       "                            \n",
       "var gd = document.getElementById('7e41fec5-4e0f-4d4b-828b-b7727e156ecd');\n",
       "var x = new MutationObserver(function (mutations, observer) {{\n",
       "        var display = window.getComputedStyle(gd).display;\n",
       "        if (!display || display === 'none') {{\n",
       "            console.log([gd, 'removed!']);\n",
       "            Plotly.purge(gd);\n",
       "            observer.disconnect();\n",
       "        }}\n",
       "}});\n",
       "\n",
       "// Listen for the removal of the full notebook cells\n",
       "var notebookContainer = gd.closest('#notebook-container');\n",
       "if (notebookContainer) {{\n",
       "    x.observe(notebookContainer, {childList: true});\n",
       "}}\n",
       "\n",
       "// Listen for the clearing of the current output cell\n",
       "var outputEl = gd.closest('.output');\n",
       "if (outputEl) {{\n",
       "    x.observe(outputEl, {childList: true});\n",
       "}}\n",
       "\n",
       "                        })                };                });            </script>        </div>"
      ]
     },
     "metadata": {},
     "output_type": "display_data"
    }
   ],
   "source": [
    "neighborhoods_to_plot = top_nodes\n",
    "data = gpd.read_file(\"NYCneighbourhoods.geojson\")\n",
    "filtered_data = data[data['NTAName'].isin(neighborhoods_to_plot)]\n",
    "\n",
    "fig = px.choropleth_mapbox(\n",
    "    filtered_data,\n",
    "    geojson=filtered_data.geometry,\n",
    "    locations=filtered_data.index,\n",
    "    color_continuous_scale='Viridis',\n",
    "    mapbox_style='carto-positron',\n",
    "    center={'lat': 40.7128, 'lon': -74.0060},\n",
    "    zoom=10\n",
    ")\n",
    "\n",
    "# Update layout settings\n",
    "fig.update_layout(margin={'r': 0, 't': 0, 'l': 0, 'b': 0})\n",
    "\n",
    "# Show the plot\n",
    "fig.show()"
   ]
  }
 ],
 "metadata": {
  "kernelspec": {
   "display_name": "Python 3 (ipykernel)",
   "language": "python",
   "name": "python3"
  },
  "language_info": {
   "codemirror_mode": {
    "name": "ipython",
    "version": 3
   },
   "file_extension": ".py",
   "mimetype": "text/x-python",
   "name": "python",
   "nbconvert_exporter": "python",
   "pygments_lexer": "ipython3",
   "version": "3.9.16"
  }
 },
 "nbformat": 4,
 "nbformat_minor": 5
}
